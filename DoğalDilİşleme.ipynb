{
  "nbformat": 4,
  "nbformat_minor": 0,
  "metadata": {
    "colab": {
      "provenance": [],
      "mount_file_id": "1nIQcq7CysCxfl4qN-OycTJWOEY4elLsc",
      "authorship_tag": "ABX9TyOoGLqIP9LbW0J0MOjeKVOZ",
      "include_colab_link": true
    },
    "kernelspec": {
      "name": "python3",
      "display_name": "Python 3"
    },
    "language_info": {
      "name": "python"
    }
  },
  "cells": [
    {
      "cell_type": "markdown",
      "metadata": {
        "id": "view-in-github",
        "colab_type": "text"
      },
      "source": [
        "<a href=\"https://colab.research.google.com/github/dilara-uzer/hu-bby-261-2024/blob/main/Do%C4%9FalDil%C4%B0%C5%9Fleme.ipynb\" target=\"_parent\"><img src=\"https://colab.research.google.com/assets/colab-badge.svg\" alt=\"Open In Colab\"/></a>"
      ]
    },
    {
      "cell_type": "code",
      "execution_count": null,
      "metadata": {
        "id": "zxbJ-vtLdSeh",
        "outputId": "a1e3ec48-3a3d-4bc3-97ae-5674a432f325",
        "colab": {
          "base_uri": "https://localhost:8080/"
        }
      },
      "outputs": [
        {
          "output_type": "stream",
          "name": "stdout",
          "text": [
            "Bir metin giriniz: La tecnología ha transformado nuestras vidas de manera profunda en las últimas décadas. Hoy en día, las personas tienen acceso instantáneo a la información, pueden comunicarse fácilmente a través de las redes sociales y realizan una gran cantidad de tareas cotidianas con la ayuda de dispositivos tecnológicos\n",
            "Metnin dili: İspanyolca\n"
          ]
        }
      ],
      "source": [
        "def dosyadan_kelime_listesi_olustur(dosya_yolu):\n",
        "    try:\n",
        "        with open(dosya_yolu, \"r\", encoding=\"utf-8\") as dosya:\n",
        "            kelimeler = [satir.strip().lower() for satir in dosya]\n",
        "        return kelimeler\n",
        "    except FileNotFoundError:\n",
        "        print(f\"Hata: '{dosya_yolu}' dosyası bulunamadı.\")\n",
        "        return []\n",
        "\n",
        "# Dilleri dosyalardan yükleyelim\n",
        "turkce_kelime_ve_ekler = dosyadan_kelime_listesi_olustur(\"/content/türkçe.txt\")\n",
        "almanca_kelime_ve_ekler = dosyadan_kelime_listesi_olustur(\"/content/almanca.txt\")\n",
        "fransizca_kelime_ve_ekler = dosyadan_kelime_listesi_olustur(\"/content/fransızca.txt\")\n",
        "ispanyolca_kelime_ve_ekler = dosyadan_kelime_listesi_olustur(\"/content/ispanyolca.txt\")\n",
        "ingilizce_kelime_ve_ekler = dosyadan_kelime_listesi_olustur(\"/content/ingilizce.txt\")\n",
        "\n",
        "# Temizleme işlemi: sadece harfleri almak için\n",
        "def kelime_temizle(kelime):\n",
        "    # Kelimenin başındaki ve sonundaki boşlukları temizle, sadece harfleri al\n",
        "    temiz_kelime = \"\".join(char for char in kelime if char.isalpha())\n",
        "    return temiz_kelime.lower()  # küçük harfe çevir\n",
        "\n",
        "def dil_tespiti(metin):\n",
        "    # Küçük harfe çevir ve kelimelere ayır\n",
        "    kelimeler = metin.split()\n",
        "\n",
        "    # Sayaçlar\n",
        "    turkce_sayac = sum(1 for kelime in kelimeler if kelime_temizle(kelime) in turkce_kelime_ve_ekler)\n",
        "    almanca_sayac = sum(1 for kelime in kelimeler if kelime_temizle(kelime) in almanca_kelime_ve_ekler)\n",
        "    fransizca_sayac = sum(1 for kelime in kelimeler if kelime_temizle(kelime) in fransizca_kelime_ve_ekler)\n",
        "    ispanyolca_sayac = sum(1 for kelime in kelimeler if kelime_temizle(kelime) in ispanyolca_kelime_ve_ekler)\n",
        "    ingilizce_sayac = sum(1 for kelime in kelimeler if kelime_temizle(kelime) in ingilizce_kelime_ve_ekler)\n",
        "\n",
        "    # Dili tespit etme\n",
        "    diller = {\n",
        "        \"Türkçe\": turkce_sayac,\n",
        "        \"Almanca\": almanca_sayac,\n",
        "        \"Fransızca\": fransizca_sayac,\n",
        "        \"İspanyolca\": ispanyolca_sayac,\n",
        "        \"İngilizce\": ingilizce_sayac\n",
        "    }\n",
        "\n",
        "    # En yüksek sayacı bul\n",
        "    en_yuksek_dil = max(diller, key=diller.get)\n",
        "\n",
        "    # Dili kontrol et\n",
        "    if diller[en_yuksek_dil] == 0:\n",
        "        return \"Dil tespit edilemedi.\"\n",
        "    return en_yuksek_dil\n",
        "\n",
        "# Örnek kullanım\n",
        "metin = input(\"Bir metin giriniz: \")\n",
        "print(\"Metnin dili:\", dil_tespiti(metin))\n"
      ]
    }
  ]
}