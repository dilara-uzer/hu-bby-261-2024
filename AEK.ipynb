{
  "nbformat": 4,
  "nbformat_minor": 0,
  "metadata": {
    "colab": {
      "provenance": [],
      "mount_file_id": "1KP1nE2I-bInafyA0GVfdeoubJbr4FfOx",
      "authorship_tag": "ABX9TyPwv6p1zNuuOPXess8C4jR9",
      "include_colab_link": true
    },
    "kernelspec": {
      "name": "python3",
      "display_name": "Python 3"
    },
    "language_info": {
      "name": "python"
    }
  },
  "cells": [
    {
      "cell_type": "markdown",
      "metadata": {
        "id": "view-in-github",
        "colab_type": "text"
      },
      "source": [
        "<a href=\"https://colab.research.google.com/github/dilara-uzer/hu-bby-261-2024/blob/main/AEK.ipynb\" target=\"_parent\"><img src=\"https://colab.research.google.com/assets/colab-badge.svg\" alt=\"Open In Colab\"/></a>"
      ]
    },
    {
      "cell_type": "code",
      "source": [
        "import xml.etree.ElementTree as ET\n",
        "\n",
        "# XML dosya yolu\n",
        "XML_FILE = \"aek_metadata.xml\"\n",
        "\n",
        "\n",
        "# Formdan alınan bilgileri XML'e kaydetme\n",
        "def add_metadata():\n",
        "    metadata = {\n",
        "        \"Title\": input(\"Başlık: \"),\n",
        "        \"Subject\": input(\"Anahtar Kelimeler (virgülle ayırın): \"),\n",
        "        \"Description\": input(\"Özet Bilgi: \"),\n",
        "        \"Creator\": input(\"Oluşturan (Kişi/Kuruluş): \"),\n",
        "        \"License\": input(\"Açık Lisans: \"),\n",
        "        \"Language\": input(\"Dil: \"),\n",
        "        \"Identifier\": input(\"Kaynağın URL'si: \"),\n",
        "    }\n",
        "\n",
        "    tree = ET.parse(XML_FILE)\n",
        "    root = tree.getroot()\n",
        "\n",
        "    entry = ET.SubElement(root, \"AEKEntry\")\n",
        "    for key, value in metadata.items():\n",
        "        elem = ET.SubElement(entry, key)\n",
        "        elem.text = value\n",
        "\n",
        "    tree.write(XML_FILE, encoding=\"utf-8\", xml_declaration=True)\n",
        "    print(\"Üst veri başarıyla kaydedildi.\")\n",
        "\n",
        "# XML dosyasından verileri listeleme\n",
        "def list_metadata():\n",
        "    tree = ET.parse(XML_FILE)\n",
        "    root = tree.getroot()\n",
        "\n",
        "    print(\"\\nKayıtlar:\")\n",
        "    for i, entry in enumerate(root.findall(\"AEKEntry\"), start=1):\n",
        "        print(f\"\\nKayıt {i}:\")\n",
        "        for child in entry:\n",
        "            print(f\"{child.tag}: {child.text}\")\n",
        "\n",
        "# Filtreleme ve arama\n",
        "def search_metadata():\n",
        "    tree = ET.parse(XML_FILE)\n",
        "    root = tree.getroot()\n",
        "\n",
        "    field = input(\"Hangi alanda arama yapmak istiyorsunuz? (Title, Subject, etc.): \")\n",
        "    query = input(\"Arama terimi: \")\n",
        "\n",
        "    print(\"\\nArama Sonuçları:\")\n",
        "    for i, entry in enumerate(root.findall(\"AEKEntry\"), start=1):\n",
        "        for child in entry:\n",
        "            if child.tag == field and query.lower() in (child.text or \"\").lower():\n",
        "                print(f\"\\nKayıt {i}:\")\n",
        "                for subchild in entry:\n",
        "                    print(f\"{subchild.tag}: {subchild.text}\")\n",
        "                break\n",
        "\n",
        "# Menü\n",
        "def main():\n",
        "    import os\n",
        "    if not os.path.exists(XML_FILE):\n",
        "        create_xml_file()\n",
        "\n",
        "    while True:\n",
        "        print(\"\\n1. Üst Veri Ekle\")\n",
        "        print(\"2. Kayıtları Listele\")\n",
        "        print(\"3. Arama Yap\")\n",
        "        print(\"4. Çıkış\")\n",
        "\n",
        "        choice = input(\"Seçiminiz: \")\n",
        "        if choice == \"1\":\n",
        "            add_metadata()\n",
        "        elif choice == \"2\":\n",
        "            list_metadata()\n",
        "        elif choice == \"3\":\n",
        "            search_metadata()\n",
        "        elif choice == \"4\":\n",
        "            print(\"Çıkılıyor...\")\n",
        "            break\n",
        "        else:\n",
        "            print(\"Geçersiz seçim. Lütfen tekrar deneyin.\")\n",
        "\n",
        "if __name__ == \"__main__\":\n",
        "    main()\n"
      ],
      "metadata": {
        "id": "8_fKxjnpb0Rf",
        "colab": {
          "base_uri": "https://localhost:8080/",
          "height": 946
        },
        "outputId": "f171d195-b452-4dcb-d896-70cf0671697d"
      },
      "execution_count": 4,
      "outputs": [
        {
          "output_type": "stream",
          "name": "stdout",
          "text": [
            "\n",
            "1. Üst Veri Ekle\n",
            "2. Kayıtları Listele\n",
            "3. Arama Yap\n",
            "4. Çıkış\n",
            "Seçiminiz: eğitim\n",
            "Geçersiz seçim. Lütfen tekrar deneyin.\n",
            "\n",
            "1. Üst Veri Ekle\n",
            "2. Kayıtları Listele\n",
            "3. Arama Yap\n",
            "4. Çıkış\n",
            "Seçiminiz: 3\n",
            "Hangi alanda arama yapmak istiyorsunuz? (Title, Subject, etc.): eğitim\n",
            "Arama terimi: sistem\n",
            "\n",
            "Arama Sonuçları:\n",
            "\n",
            "1. Üst Veri Ekle\n",
            "2. Kayıtları Listele\n",
            "3. Arama Yap\n",
            "4. Çıkış\n",
            "Seçiminiz: 1\n",
            "Başlık: python\n",
            "Anahtar Kelimeler (virgülle ayırın): kod\n",
            "Özet Bilgi: yok\n",
            "Oluşturan (Kişi/Kuruluş): dilara\n",
            "Açık Lisans: var\n",
            "Dil: ing\n",
            "Kaynağın URL'si: https://www.w3schools.com/python/matplotlib_histograms.asp\n",
            "Üst veri başarıyla kaydedildi.\n",
            "\n",
            "1. Üst Veri Ekle\n",
            "2. Kayıtları Listele\n",
            "3. Arama Yap\n",
            "4. Çıkış\n"
          ]
        },
        {
          "output_type": "error",
          "ename": "KeyboardInterrupt",
          "evalue": "Interrupted by user",
          "traceback": [
            "\u001b[0;31m---------------------------------------------------------------------------\u001b[0m",
            "\u001b[0;31mKeyboardInterrupt\u001b[0m                         Traceback (most recent call last)",
            "\u001b[0;32m<ipython-input-4-15deced228ca>\u001b[0m in \u001b[0;36m<cell line: 83>\u001b[0;34m()\u001b[0m\n\u001b[1;32m     82\u001b[0m \u001b[0;34m\u001b[0m\u001b[0m\n\u001b[1;32m     83\u001b[0m \u001b[0;32mif\u001b[0m \u001b[0m__name__\u001b[0m \u001b[0;34m==\u001b[0m \u001b[0;34m\"__main__\"\u001b[0m\u001b[0;34m:\u001b[0m\u001b[0;34m\u001b[0m\u001b[0;34m\u001b[0m\u001b[0m\n\u001b[0;32m---> 84\u001b[0;31m     \u001b[0mmain\u001b[0m\u001b[0;34m(\u001b[0m\u001b[0;34m)\u001b[0m\u001b[0;34m\u001b[0m\u001b[0;34m\u001b[0m\u001b[0m\n\u001b[0m",
            "\u001b[0;32m<ipython-input-4-15deced228ca>\u001b[0m in \u001b[0;36mmain\u001b[0;34m()\u001b[0m\n\u001b[1;32m     68\u001b[0m         \u001b[0mprint\u001b[0m\u001b[0;34m(\u001b[0m\u001b[0;34m\"4. Çıkış\"\u001b[0m\u001b[0;34m)\u001b[0m\u001b[0;34m\u001b[0m\u001b[0;34m\u001b[0m\u001b[0m\n\u001b[1;32m     69\u001b[0m \u001b[0;34m\u001b[0m\u001b[0m\n\u001b[0;32m---> 70\u001b[0;31m         \u001b[0mchoice\u001b[0m \u001b[0;34m=\u001b[0m \u001b[0minput\u001b[0m\u001b[0;34m(\u001b[0m\u001b[0;34m\"Seçiminiz: \"\u001b[0m\u001b[0;34m)\u001b[0m\u001b[0;34m\u001b[0m\u001b[0;34m\u001b[0m\u001b[0m\n\u001b[0m\u001b[1;32m     71\u001b[0m         \u001b[0;32mif\u001b[0m \u001b[0mchoice\u001b[0m \u001b[0;34m==\u001b[0m \u001b[0;34m\"1\"\u001b[0m\u001b[0;34m:\u001b[0m\u001b[0;34m\u001b[0m\u001b[0;34m\u001b[0m\u001b[0m\n\u001b[1;32m     72\u001b[0m             \u001b[0madd_metadata\u001b[0m\u001b[0;34m(\u001b[0m\u001b[0;34m)\u001b[0m\u001b[0;34m\u001b[0m\u001b[0;34m\u001b[0m\u001b[0m\n",
            "\u001b[0;32m/usr/local/lib/python3.10/dist-packages/ipykernel/kernelbase.py\u001b[0m in \u001b[0;36mraw_input\u001b[0;34m(self, prompt)\u001b[0m\n\u001b[1;32m    849\u001b[0m                 \u001b[0;34m\"raw_input was called, but this frontend does not support input requests.\"\u001b[0m\u001b[0;34m\u001b[0m\u001b[0;34m\u001b[0m\u001b[0m\n\u001b[1;32m    850\u001b[0m             )\n\u001b[0;32m--> 851\u001b[0;31m         return self._input_request(str(prompt),\n\u001b[0m\u001b[1;32m    852\u001b[0m             \u001b[0mself\u001b[0m\u001b[0;34m.\u001b[0m\u001b[0m_parent_ident\u001b[0m\u001b[0;34m,\u001b[0m\u001b[0;34m\u001b[0m\u001b[0;34m\u001b[0m\u001b[0m\n\u001b[1;32m    853\u001b[0m             \u001b[0mself\u001b[0m\u001b[0;34m.\u001b[0m\u001b[0m_parent_header\u001b[0m\u001b[0;34m,\u001b[0m\u001b[0;34m\u001b[0m\u001b[0;34m\u001b[0m\u001b[0m\n",
            "\u001b[0;32m/usr/local/lib/python3.10/dist-packages/ipykernel/kernelbase.py\u001b[0m in \u001b[0;36m_input_request\u001b[0;34m(self, prompt, ident, parent, password)\u001b[0m\n\u001b[1;32m    893\u001b[0m             \u001b[0;32mexcept\u001b[0m \u001b[0mKeyboardInterrupt\u001b[0m\u001b[0;34m:\u001b[0m\u001b[0;34m\u001b[0m\u001b[0;34m\u001b[0m\u001b[0m\n\u001b[1;32m    894\u001b[0m                 \u001b[0;31m# re-raise KeyboardInterrupt, to truncate traceback\u001b[0m\u001b[0;34m\u001b[0m\u001b[0;34m\u001b[0m\u001b[0m\n\u001b[0;32m--> 895\u001b[0;31m                 \u001b[0;32mraise\u001b[0m \u001b[0mKeyboardInterrupt\u001b[0m\u001b[0;34m(\u001b[0m\u001b[0;34m\"Interrupted by user\"\u001b[0m\u001b[0;34m)\u001b[0m \u001b[0;32mfrom\u001b[0m \u001b[0;32mNone\u001b[0m\u001b[0;34m\u001b[0m\u001b[0;34m\u001b[0m\u001b[0m\n\u001b[0m\u001b[1;32m    896\u001b[0m             \u001b[0;32mexcept\u001b[0m \u001b[0mException\u001b[0m \u001b[0;32mas\u001b[0m \u001b[0me\u001b[0m\u001b[0;34m:\u001b[0m\u001b[0;34m\u001b[0m\u001b[0;34m\u001b[0m\u001b[0m\n\u001b[1;32m    897\u001b[0m                 \u001b[0mself\u001b[0m\u001b[0;34m.\u001b[0m\u001b[0mlog\u001b[0m\u001b[0;34m.\u001b[0m\u001b[0mwarning\u001b[0m\u001b[0;34m(\u001b[0m\u001b[0;34m\"Invalid Message:\"\u001b[0m\u001b[0;34m,\u001b[0m \u001b[0mexc_info\u001b[0m\u001b[0;34m=\u001b[0m\u001b[0;32mTrue\u001b[0m\u001b[0;34m)\u001b[0m\u001b[0;34m\u001b[0m\u001b[0;34m\u001b[0m\u001b[0m\n",
            "\u001b[0;31mKeyboardInterrupt\u001b[0m: Interrupted by user"
          ]
        }
      ]
    }
  ]
}