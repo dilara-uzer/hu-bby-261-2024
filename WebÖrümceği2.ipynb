{
  "nbformat": 4,
  "nbformat_minor": 0,
  "metadata": {
    "colab": {
      "provenance": [],
      "authorship_tag": "ABX9TyP4TZJTF+cqosiBtWiUPSMF",
      "include_colab_link": true
    },
    "kernelspec": {
      "name": "python3",
      "display_name": "Python 3"
    },
    "language_info": {
      "name": "python"
    },
    "widgets": {
      "application/vnd.jupyter.widget-state+json": {
        "88e284ec4b164e1b983d830924f85727": {
          "model_module": "@jupyter-widgets/controls",
          "model_name": "HTMLModel",
          "model_module_version": "1.5.0",
          "state": {
            "_dom_classes": [],
            "_model_module": "@jupyter-widgets/controls",
            "_model_module_version": "1.5.0",
            "_model_name": "HTMLModel",
            "_view_count": null,
            "_view_module": "@jupyter-widgets/controls",
            "_view_module_version": "1.5.0",
            "_view_name": "HTMLView",
            "description": "",
            "description_tooltip": null,
            "layout": "IPY_MODEL_eb576909729e4656a1ef92eed5e4e503",
            "placeholder": "​",
            "style": "IPY_MODEL_0090af9ae2144a88ad681da97a3ec653",
            "value": "<h1>::: Web Örümceği :::</h1>"
          }
        },
        "eb576909729e4656a1ef92eed5e4e503": {
          "model_module": "@jupyter-widgets/base",
          "model_name": "LayoutModel",
          "model_module_version": "1.2.0",
          "state": {
            "_model_module": "@jupyter-widgets/base",
            "_model_module_version": "1.2.0",
            "_model_name": "LayoutModel",
            "_view_count": null,
            "_view_module": "@jupyter-widgets/base",
            "_view_module_version": "1.2.0",
            "_view_name": "LayoutView",
            "align_content": null,
            "align_items": null,
            "align_self": null,
            "border": null,
            "bottom": null,
            "display": null,
            "flex": null,
            "flex_flow": null,
            "grid_area": null,
            "grid_auto_columns": null,
            "grid_auto_flow": null,
            "grid_auto_rows": null,
            "grid_column": null,
            "grid_gap": null,
            "grid_row": null,
            "grid_template_areas": null,
            "grid_template_columns": null,
            "grid_template_rows": null,
            "height": null,
            "justify_content": null,
            "justify_items": null,
            "left": null,
            "margin": null,
            "max_height": null,
            "max_width": null,
            "min_height": null,
            "min_width": null,
            "object_fit": null,
            "object_position": null,
            "order": null,
            "overflow": null,
            "overflow_x": null,
            "overflow_y": null,
            "padding": null,
            "right": null,
            "top": null,
            "visibility": null,
            "width": null
          }
        },
        "0090af9ae2144a88ad681da97a3ec653": {
          "model_module": "@jupyter-widgets/controls",
          "model_name": "DescriptionStyleModel",
          "model_module_version": "1.5.0",
          "state": {
            "_model_module": "@jupyter-widgets/controls",
            "_model_module_version": "1.5.0",
            "_model_name": "DescriptionStyleModel",
            "_view_count": null,
            "_view_module": "@jupyter-widgets/base",
            "_view_module_version": "1.2.0",
            "_view_name": "StyleView",
            "description_width": ""
          }
        },
        "7d3f5ff3382c45908a53e779e2ef52cc": {
          "model_module": "@jupyter-widgets/controls",
          "model_name": "HTMLModel",
          "model_module_version": "1.5.0",
          "state": {
            "_dom_classes": [],
            "_model_module": "@jupyter-widgets/controls",
            "_model_module_version": "1.5.0",
            "_model_name": "HTMLModel",
            "_view_count": null,
            "_view_module": "@jupyter-widgets/controls",
            "_view_module_version": "1.5.0",
            "_view_name": "HTMLView",
            "description": "",
            "description_tooltip": null,
            "layout": "IPY_MODEL_f8fab3d03cc840119545cf4912b5c349",
            "placeholder": "​",
            "style": "IPY_MODEL_879966f7d07d49ea9918aade60c8948c",
            "value": "<h2>Tarama verisi oluştur:</h2>"
          }
        },
        "f8fab3d03cc840119545cf4912b5c349": {
          "model_module": "@jupyter-widgets/base",
          "model_name": "LayoutModel",
          "model_module_version": "1.2.0",
          "state": {
            "_model_module": "@jupyter-widgets/base",
            "_model_module_version": "1.2.0",
            "_model_name": "LayoutModel",
            "_view_count": null,
            "_view_module": "@jupyter-widgets/base",
            "_view_module_version": "1.2.0",
            "_view_name": "LayoutView",
            "align_content": null,
            "align_items": null,
            "align_self": null,
            "border": null,
            "bottom": null,
            "display": null,
            "flex": null,
            "flex_flow": null,
            "grid_area": null,
            "grid_auto_columns": null,
            "grid_auto_flow": null,
            "grid_auto_rows": null,
            "grid_column": null,
            "grid_gap": null,
            "grid_row": null,
            "grid_template_areas": null,
            "grid_template_columns": null,
            "grid_template_rows": null,
            "height": null,
            "justify_content": null,
            "justify_items": null,
            "left": null,
            "margin": null,
            "max_height": null,
            "max_width": null,
            "min_height": null,
            "min_width": null,
            "object_fit": null,
            "object_position": null,
            "order": null,
            "overflow": null,
            "overflow_x": null,
            "overflow_y": null,
            "padding": null,
            "right": null,
            "top": null,
            "visibility": null,
            "width": null
          }
        },
        "879966f7d07d49ea9918aade60c8948c": {
          "model_module": "@jupyter-widgets/controls",
          "model_name": "DescriptionStyleModel",
          "model_module_version": "1.5.0",
          "state": {
            "_model_module": "@jupyter-widgets/controls",
            "_model_module_version": "1.5.0",
            "_model_name": "DescriptionStyleModel",
            "_view_count": null,
            "_view_module": "@jupyter-widgets/base",
            "_view_module_version": "1.2.0",
            "_view_name": "StyleView",
            "description_width": ""
          }
        },
        "265a087f9c90444a9602f9568729bcb9": {
          "model_module": "@jupyter-widgets/controls",
          "model_name": "HTMLModel",
          "model_module_version": "1.5.0",
          "state": {
            "_dom_classes": [],
            "_model_module": "@jupyter-widgets/controls",
            "_model_module_version": "1.5.0",
            "_model_name": "HTMLModel",
            "_view_count": null,
            "_view_module": "@jupyter-widgets/controls",
            "_view_module_version": "1.5.0",
            "_view_name": "HTMLView",
            "description": "",
            "description_tooltip": null,
            "layout": "IPY_MODEL_502add77bb954a4a99776b970b4df747",
            "placeholder": "​",
            "style": "IPY_MODEL_019478afeb144be3b814d8800021089d",
            "value": "<p>Web taraması için başlangıç adresi olarak belirlemek istediğiniz URL'yi giriniz. URL https ya da http ön eki ile başlamalıdır. Tarama seviyesini istediğiniz bir değere ayarlayınız ve taramayı başlat düğmesine tıklayınız:</p>"
          }
        },
        "502add77bb954a4a99776b970b4df747": {
          "model_module": "@jupyter-widgets/base",
          "model_name": "LayoutModel",
          "model_module_version": "1.2.0",
          "state": {
            "_model_module": "@jupyter-widgets/base",
            "_model_module_version": "1.2.0",
            "_model_name": "LayoutModel",
            "_view_count": null,
            "_view_module": "@jupyter-widgets/base",
            "_view_module_version": "1.2.0",
            "_view_name": "LayoutView",
            "align_content": null,
            "align_items": null,
            "align_self": null,
            "border": null,
            "bottom": null,
            "display": null,
            "flex": null,
            "flex_flow": null,
            "grid_area": null,
            "grid_auto_columns": null,
            "grid_auto_flow": null,
            "grid_auto_rows": null,
            "grid_column": null,
            "grid_gap": null,
            "grid_row": null,
            "grid_template_areas": null,
            "grid_template_columns": null,
            "grid_template_rows": null,
            "height": null,
            "justify_content": null,
            "justify_items": null,
            "left": null,
            "margin": null,
            "max_height": null,
            "max_width": null,
            "min_height": null,
            "min_width": null,
            "object_fit": null,
            "object_position": null,
            "order": null,
            "overflow": null,
            "overflow_x": null,
            "overflow_y": null,
            "padding": null,
            "right": null,
            "top": null,
            "visibility": null,
            "width": null
          }
        },
        "019478afeb144be3b814d8800021089d": {
          "model_module": "@jupyter-widgets/controls",
          "model_name": "DescriptionStyleModel",
          "model_module_version": "1.5.0",
          "state": {
            "_model_module": "@jupyter-widgets/controls",
            "_model_module_version": "1.5.0",
            "_model_name": "DescriptionStyleModel",
            "_view_count": null,
            "_view_module": "@jupyter-widgets/base",
            "_view_module_version": "1.2.0",
            "_view_name": "StyleView",
            "description_width": ""
          }
        },
        "ec1d6eedfcd44219ac726e926a717854": {
          "model_module": "@jupyter-widgets/controls",
          "model_name": "TextModel",
          "model_module_version": "1.5.0",
          "state": {
            "_dom_classes": [],
            "_model_module": "@jupyter-widgets/controls",
            "_model_module_version": "1.5.0",
            "_model_name": "TextModel",
            "_view_count": null,
            "_view_module": "@jupyter-widgets/controls",
            "_view_module_version": "1.5.0",
            "_view_name": "TextView",
            "continuous_update": true,
            "description": "",
            "description_tooltip": null,
            "disabled": false,
            "layout": "IPY_MODEL_caac37bcc59e4737aa9f6c6169ea0357",
            "placeholder": "​",
            "style": "IPY_MODEL_71f0969e8d39459a9b41c3781e5c99b7",
            "value": "https://bye.hacettepe.edu.tr/login/index.php"
          }
        },
        "caac37bcc59e4737aa9f6c6169ea0357": {
          "model_module": "@jupyter-widgets/base",
          "model_name": "LayoutModel",
          "model_module_version": "1.2.0",
          "state": {
            "_model_module": "@jupyter-widgets/base",
            "_model_module_version": "1.2.0",
            "_model_name": "LayoutModel",
            "_view_count": null,
            "_view_module": "@jupyter-widgets/base",
            "_view_module_version": "1.2.0",
            "_view_name": "LayoutView",
            "align_content": null,
            "align_items": null,
            "align_self": null,
            "border": null,
            "bottom": null,
            "display": null,
            "flex": null,
            "flex_flow": null,
            "grid_area": null,
            "grid_auto_columns": null,
            "grid_auto_flow": null,
            "grid_auto_rows": null,
            "grid_column": null,
            "grid_gap": null,
            "grid_row": null,
            "grid_template_areas": null,
            "grid_template_columns": null,
            "grid_template_rows": null,
            "height": null,
            "justify_content": null,
            "justify_items": null,
            "left": null,
            "margin": null,
            "max_height": null,
            "max_width": null,
            "min_height": null,
            "min_width": null,
            "object_fit": null,
            "object_position": null,
            "order": null,
            "overflow": null,
            "overflow_x": null,
            "overflow_y": null,
            "padding": null,
            "right": null,
            "top": null,
            "visibility": null,
            "width": null
          }
        },
        "71f0969e8d39459a9b41c3781e5c99b7": {
          "model_module": "@jupyter-widgets/controls",
          "model_name": "DescriptionStyleModel",
          "model_module_version": "1.5.0",
          "state": {
            "_model_module": "@jupyter-widgets/controls",
            "_model_module_version": "1.5.0",
            "_model_name": "DescriptionStyleModel",
            "_view_count": null,
            "_view_module": "@jupyter-widgets/base",
            "_view_module_version": "1.2.0",
            "_view_name": "StyleView",
            "description_width": ""
          }
        },
        "afb0a0993ca44361b6abb08b770b5aa4": {
          "model_module": "@jupyter-widgets/controls",
          "model_name": "IntSliderModel",
          "model_module_version": "1.5.0",
          "state": {
            "_dom_classes": [],
            "_model_module": "@jupyter-widgets/controls",
            "_model_module_version": "1.5.0",
            "_model_name": "IntSliderModel",
            "_view_count": null,
            "_view_module": "@jupyter-widgets/controls",
            "_view_module_version": "1.5.0",
            "_view_name": "IntSliderView",
            "continuous_update": true,
            "description": "",
            "description_tooltip": null,
            "disabled": false,
            "layout": "IPY_MODEL_6ff0dc496b964d2db681a57cd2bdd757",
            "max": 5,
            "min": 1,
            "orientation": "horizontal",
            "readout": true,
            "readout_format": "d",
            "step": 1,
            "style": "IPY_MODEL_0789cff0153f4c76b098144e008e4f71",
            "value": 4
          }
        },
        "6ff0dc496b964d2db681a57cd2bdd757": {
          "model_module": "@jupyter-widgets/base",
          "model_name": "LayoutModel",
          "model_module_version": "1.2.0",
          "state": {
            "_model_module": "@jupyter-widgets/base",
            "_model_module_version": "1.2.0",
            "_model_name": "LayoutModel",
            "_view_count": null,
            "_view_module": "@jupyter-widgets/base",
            "_view_module_version": "1.2.0",
            "_view_name": "LayoutView",
            "align_content": null,
            "align_items": null,
            "align_self": null,
            "border": null,
            "bottom": null,
            "display": null,
            "flex": null,
            "flex_flow": null,
            "grid_area": null,
            "grid_auto_columns": null,
            "grid_auto_flow": null,
            "grid_auto_rows": null,
            "grid_column": null,
            "grid_gap": null,
            "grid_row": null,
            "grid_template_areas": null,
            "grid_template_columns": null,
            "grid_template_rows": null,
            "height": null,
            "justify_content": null,
            "justify_items": null,
            "left": null,
            "margin": null,
            "max_height": null,
            "max_width": null,
            "min_height": null,
            "min_width": null,
            "object_fit": null,
            "object_position": null,
            "order": null,
            "overflow": null,
            "overflow_x": null,
            "overflow_y": null,
            "padding": null,
            "right": null,
            "top": null,
            "visibility": null,
            "width": null
          }
        },
        "0789cff0153f4c76b098144e008e4f71": {
          "model_module": "@jupyter-widgets/controls",
          "model_name": "SliderStyleModel",
          "model_module_version": "1.5.0",
          "state": {
            "_model_module": "@jupyter-widgets/controls",
            "_model_module_version": "1.5.0",
            "_model_name": "SliderStyleModel",
            "_view_count": null,
            "_view_module": "@jupyter-widgets/base",
            "_view_module_version": "1.2.0",
            "_view_name": "StyleView",
            "description_width": "",
            "handle_color": null
          }
        },
        "c4a93c9e09c84fca84ae56bb9a2b8748": {
          "model_module": "@jupyter-widgets/controls",
          "model_name": "ButtonModel",
          "model_module_version": "1.5.0",
          "state": {
            "_dom_classes": [],
            "_model_module": "@jupyter-widgets/controls",
            "_model_module_version": "1.5.0",
            "_model_name": "ButtonModel",
            "_view_count": null,
            "_view_module": "@jupyter-widgets/controls",
            "_view_module_version": "1.5.0",
            "_view_name": "ButtonView",
            "button_style": "",
            "description": "Taramayı başlat!",
            "disabled": false,
            "icon": "",
            "layout": "IPY_MODEL_b8fc09f28e604f50822870908a491cb3",
            "style": "IPY_MODEL_4b60ae6ba3c4425f9ecefaf16fded2fa",
            "tooltip": ""
          }
        },
        "b8fc09f28e604f50822870908a491cb3": {
          "model_module": "@jupyter-widgets/base",
          "model_name": "LayoutModel",
          "model_module_version": "1.2.0",
          "state": {
            "_model_module": "@jupyter-widgets/base",
            "_model_module_version": "1.2.0",
            "_model_name": "LayoutModel",
            "_view_count": null,
            "_view_module": "@jupyter-widgets/base",
            "_view_module_version": "1.2.0",
            "_view_name": "LayoutView",
            "align_content": null,
            "align_items": null,
            "align_self": null,
            "border": null,
            "bottom": null,
            "display": null,
            "flex": null,
            "flex_flow": null,
            "grid_area": null,
            "grid_auto_columns": null,
            "grid_auto_flow": null,
            "grid_auto_rows": null,
            "grid_column": null,
            "grid_gap": null,
            "grid_row": null,
            "grid_template_areas": null,
            "grid_template_columns": null,
            "grid_template_rows": null,
            "height": null,
            "justify_content": null,
            "justify_items": null,
            "left": null,
            "margin": null,
            "max_height": null,
            "max_width": null,
            "min_height": null,
            "min_width": null,
            "object_fit": null,
            "object_position": null,
            "order": null,
            "overflow": null,
            "overflow_x": null,
            "overflow_y": null,
            "padding": null,
            "right": null,
            "top": null,
            "visibility": null,
            "width": null
          }
        },
        "4b60ae6ba3c4425f9ecefaf16fded2fa": {
          "model_module": "@jupyter-widgets/controls",
          "model_name": "ButtonStyleModel",
          "model_module_version": "1.5.0",
          "state": {
            "_model_module": "@jupyter-widgets/controls",
            "_model_module_version": "1.5.0",
            "_model_name": "ButtonStyleModel",
            "_view_count": null,
            "_view_module": "@jupyter-widgets/base",
            "_view_module_version": "1.2.0",
            "_view_name": "StyleView",
            "button_color": null,
            "font_weight": ""
          }
        },
        "5dce33d454514a97bc4eaddbe4f4eada": {
          "model_module": "@jupyter-widgets/controls",
          "model_name": "HTMLModel",
          "model_module_version": "1.5.0",
          "state": {
            "_dom_classes": [],
            "_model_module": "@jupyter-widgets/controls",
            "_model_module_version": "1.5.0",
            "_model_name": "HTMLModel",
            "_view_count": null,
            "_view_module": "@jupyter-widgets/controls",
            "_view_module_version": "1.5.0",
            "_view_name": "HTMLView",
            "description": "",
            "description_tooltip": null,
            "layout": "IPY_MODEL_9be377323cb34399a482c87db2e6b91f",
            "placeholder": "​",
            "style": "IPY_MODEL_88e3d91527d14357859a4ce36df68285",
            "value": "<hr>"
          }
        },
        "9be377323cb34399a482c87db2e6b91f": {
          "model_module": "@jupyter-widgets/base",
          "model_name": "LayoutModel",
          "model_module_version": "1.2.0",
          "state": {
            "_model_module": "@jupyter-widgets/base",
            "_model_module_version": "1.2.0",
            "_model_name": "LayoutModel",
            "_view_count": null,
            "_view_module": "@jupyter-widgets/base",
            "_view_module_version": "1.2.0",
            "_view_name": "LayoutView",
            "align_content": null,
            "align_items": null,
            "align_self": null,
            "border": null,
            "bottom": null,
            "display": null,
            "flex": null,
            "flex_flow": null,
            "grid_area": null,
            "grid_auto_columns": null,
            "grid_auto_flow": null,
            "grid_auto_rows": null,
            "grid_column": null,
            "grid_gap": null,
            "grid_row": null,
            "grid_template_areas": null,
            "grid_template_columns": null,
            "grid_template_rows": null,
            "height": null,
            "justify_content": null,
            "justify_items": null,
            "left": null,
            "margin": null,
            "max_height": null,
            "max_width": null,
            "min_height": null,
            "min_width": null,
            "object_fit": null,
            "object_position": null,
            "order": null,
            "overflow": null,
            "overflow_x": null,
            "overflow_y": null,
            "padding": null,
            "right": null,
            "top": null,
            "visibility": null,
            "width": null
          }
        },
        "88e3d91527d14357859a4ce36df68285": {
          "model_module": "@jupyter-widgets/controls",
          "model_name": "DescriptionStyleModel",
          "model_module_version": "1.5.0",
          "state": {
            "_model_module": "@jupyter-widgets/controls",
            "_model_module_version": "1.5.0",
            "_model_name": "DescriptionStyleModel",
            "_view_count": null,
            "_view_module": "@jupyter-widgets/base",
            "_view_module_version": "1.2.0",
            "_view_name": "StyleView",
            "description_width": ""
          }
        },
        "019dd44b1a2a46de9d0220ac88f627d6": {
          "model_module": "@jupyter-widgets/controls",
          "model_name": "HTMLModel",
          "model_module_version": "1.5.0",
          "state": {
            "_dom_classes": [],
            "_model_module": "@jupyter-widgets/controls",
            "_model_module_version": "1.5.0",
            "_model_name": "HTMLModel",
            "_view_count": null,
            "_view_module": "@jupyter-widgets/controls",
            "_view_module_version": "1.5.0",
            "_view_name": "HTMLView",
            "description": "",
            "description_tooltip": null,
            "layout": "IPY_MODEL_cc529944f1f6481498150672d317cf27",
            "placeholder": "​",
            "style": "IPY_MODEL_884cb6d6610f48df909725325cdde560",
            "value": "<h2>Tarama sonuçları:</h2>"
          }
        },
        "cc529944f1f6481498150672d317cf27": {
          "model_module": "@jupyter-widgets/base",
          "model_name": "LayoutModel",
          "model_module_version": "1.2.0",
          "state": {
            "_model_module": "@jupyter-widgets/base",
            "_model_module_version": "1.2.0",
            "_model_name": "LayoutModel",
            "_view_count": null,
            "_view_module": "@jupyter-widgets/base",
            "_view_module_version": "1.2.0",
            "_view_name": "LayoutView",
            "align_content": null,
            "align_items": null,
            "align_self": null,
            "border": null,
            "bottom": null,
            "display": null,
            "flex": null,
            "flex_flow": null,
            "grid_area": null,
            "grid_auto_columns": null,
            "grid_auto_flow": null,
            "grid_auto_rows": null,
            "grid_column": null,
            "grid_gap": null,
            "grid_row": null,
            "grid_template_areas": null,
            "grid_template_columns": null,
            "grid_template_rows": null,
            "height": null,
            "justify_content": null,
            "justify_items": null,
            "left": null,
            "margin": null,
            "max_height": null,
            "max_width": null,
            "min_height": null,
            "min_width": null,
            "object_fit": null,
            "object_position": null,
            "order": null,
            "overflow": null,
            "overflow_x": null,
            "overflow_y": null,
            "padding": null,
            "right": null,
            "top": null,
            "visibility": null,
            "width": null
          }
        },
        "884cb6d6610f48df909725325cdde560": {
          "model_module": "@jupyter-widgets/controls",
          "model_name": "DescriptionStyleModel",
          "model_module_version": "1.5.0",
          "state": {
            "_model_module": "@jupyter-widgets/controls",
            "_model_module_version": "1.5.0",
            "_model_name": "DescriptionStyleModel",
            "_view_count": null,
            "_view_module": "@jupyter-widgets/base",
            "_view_module_version": "1.2.0",
            "_view_name": "StyleView",
            "description_width": ""
          }
        }
      }
    }
  },
  "cells": [
    {
      "cell_type": "markdown",
      "metadata": {
        "id": "view-in-github",
        "colab_type": "text"
      },
      "source": [
        "<a href=\"https://colab.research.google.com/github/dilara-uzer/hu-bby-261-2024/blob/main/Web%C3%96r%C3%BCmce%C4%9Fi2.ipynb\" target=\"_parent\"><img src=\"https://colab.research.google.com/assets/colab-badge.svg\" alt=\"Open In Colab\"/></a>"
      ]
    },
    {
      "cell_type": "code",
      "execution_count": 1,
      "metadata": {
        "id": "wUxoUXrniS1G"
      },
      "outputs": [],
      "source": [
        "import ipywidgets as arayuz\n",
        "import requests as getir\n",
        "from bs4 import BeautifulSoup as analiz"
      ]
    },
    {
      "cell_type": "code",
      "source": [
        "\n",
        "baslik = arayuz.HTML(value=\"<h1>::: Web Örümceği :::</h1>\")\n",
        "display(baslik)\n",
        "\n",
        "# Uygulama ara başlık\n",
        "araBaslik = arayuz.HTML(value=\"<h2>Tarama verisi oluştur:</h2>\")\n",
        "display(araBaslik)\n",
        "\n",
        "# Sonuçlar ara başlık\n",
        "araSonuc = arayuz.HTML(value=\"<h2>Tarama sonuçları:</h2>\")\n",
        "\n",
        "#Uygulama açıklama\n",
        "aciklama = arayuz.HTML(value=\"<p>Web taraması için başlangıç adresi olarak belirlemek istediğiniz URL'yi giriniz. URL https ya da http ön eki ile başlamalıdır. Tarama seviyesini istediğiniz bir değere ayarlayınız ve taramayı başlat düğmesine tıklayınız:</p>\")\n",
        "display(aciklama)\n",
        "\n",
        "# Tarama başlangıç adresi\n",
        "url = arayuz.Text(value=\"https://\", description=\"\")\n",
        "display(url)\n",
        "\n",
        "# Tarama için seviye belirleyici\n",
        "level = arayuz.IntSlider(min=1, max=5, step=1, value=2)\n",
        "display(level)\n",
        "\n",
        "# Tarama işlemine başlanılması için buton\n",
        "buton = arayuz.Button(description=\"Taramayı başlat!\")\n",
        "display(buton)\n",
        "\n",
        "# Arayüzde kullanılan ayiricilar\n",
        "ayirici = arayuz.HTML(value=\"<hr>\")\n",
        "display(ayirici)\n",
        "\n",
        "def taramaBasla(b):\n",
        "\n",
        "    #Tarama verisi topla ve göster\n",
        "    adres = url.value\n",
        "    print(\"Başlangıç adresi: \" + adres)\n",
        "    seviye = level.value\n",
        "    print(\"Tarama seviyesi: \" + str(seviye))\n",
        "    display(ayirici)\n",
        "\n",
        "    #Tarama verisini getir\n",
        "    response = getir.get(adres)\n",
        "    html = response.content\n",
        "    print(html)\n",
        "    display(ayirici)\n",
        "\n",
        "    # BeautifulSoup nesnesi oluştur\n",
        "    soup = analiz(html, \"html.parser\")\n",
        "\n",
        "    # Başlığı bul ve yazdır\n",
        "    sayfaBaslik = soup.find(\"title\").text\n",
        "    display(araSonuc)\n",
        "    print(adres, \" - \", sayfaBaslik)\n",
        "    display(ayirici)\n",
        "\n",
        "    # Sayfadaki tüm bağlantıları bul\n",
        "    linkler = soup.find_all(\"a\")\n",
        "    for link in linkler:\n",
        "      print(\"Bağlantı:\", link.get(\"href\"))\n",
        "\n",
        "\n",
        "buton.on_click(taramaBasla)"
      ],
      "metadata": {
        "colab": {
          "base_uri": "https://localhost:8080/",
          "height": 659,
          "referenced_widgets": [
            "88e284ec4b164e1b983d830924f85727",
            "eb576909729e4656a1ef92eed5e4e503",
            "0090af9ae2144a88ad681da97a3ec653",
            "7d3f5ff3382c45908a53e779e2ef52cc",
            "f8fab3d03cc840119545cf4912b5c349",
            "879966f7d07d49ea9918aade60c8948c",
            "265a087f9c90444a9602f9568729bcb9",
            "502add77bb954a4a99776b970b4df747",
            "019478afeb144be3b814d8800021089d",
            "ec1d6eedfcd44219ac726e926a717854",
            "caac37bcc59e4737aa9f6c6169ea0357",
            "71f0969e8d39459a9b41c3781e5c99b7",
            "afb0a0993ca44361b6abb08b770b5aa4",
            "6ff0dc496b964d2db681a57cd2bdd757",
            "0789cff0153f4c76b098144e008e4f71",
            "c4a93c9e09c84fca84ae56bb9a2b8748",
            "b8fc09f28e604f50822870908a491cb3",
            "4b60ae6ba3c4425f9ecefaf16fded2fa",
            "5dce33d454514a97bc4eaddbe4f4eada",
            "9be377323cb34399a482c87db2e6b91f",
            "88e3d91527d14357859a4ce36df68285",
            "019dd44b1a2a46de9d0220ac88f627d6",
            "cc529944f1f6481498150672d317cf27",
            "884cb6d6610f48df909725325cdde560"
          ]
        },
        "id": "gGt_0XHDiftF",
        "outputId": "8c9c5ee4-0f80-460f-8823-176f28f46ba2"
      },
      "execution_count": 2,
      "outputs": [
        {
          "output_type": "display_data",
          "data": {
            "text/plain": [
              "HTML(value='<h1>::: Web Örümceği :::</h1>')"
            ],
            "application/vnd.jupyter.widget-view+json": {
              "version_major": 2,
              "version_minor": 0,
              "model_id": "88e284ec4b164e1b983d830924f85727"
            }
          },
          "metadata": {}
        },
        {
          "output_type": "display_data",
          "data": {
            "text/plain": [
              "HTML(value='<h2>Tarama verisi oluştur:</h2>')"
            ],
            "application/vnd.jupyter.widget-view+json": {
              "version_major": 2,
              "version_minor": 0,
              "model_id": "7d3f5ff3382c45908a53e779e2ef52cc"
            }
          },
          "metadata": {}
        },
        {
          "output_type": "display_data",
          "data": {
            "text/plain": [
              "HTML(value=\"<p>Web taraması için başlangıç adresi olarak belirlemek istediğiniz URL'yi giriniz. URL https ya d…"
            ],
            "application/vnd.jupyter.widget-view+json": {
              "version_major": 2,
              "version_minor": 0,
              "model_id": "265a087f9c90444a9602f9568729bcb9"
            }
          },
          "metadata": {}
        },
        {
          "output_type": "display_data",
          "data": {
            "text/plain": [
              "Text(value='https://')"
            ],
            "application/vnd.jupyter.widget-view+json": {
              "version_major": 2,
              "version_minor": 0,
              "model_id": "ec1d6eedfcd44219ac726e926a717854"
            }
          },
          "metadata": {}
        },
        {
          "output_type": "display_data",
          "data": {
            "text/plain": [
              "IntSlider(value=2, max=5, min=1)"
            ],
            "application/vnd.jupyter.widget-view+json": {
              "version_major": 2,
              "version_minor": 0,
              "model_id": "afb0a0993ca44361b6abb08b770b5aa4"
            }
          },
          "metadata": {}
        },
        {
          "output_type": "display_data",
          "data": {
            "text/plain": [
              "Button(description='Taramayı başlat!', style=ButtonStyle())"
            ],
            "application/vnd.jupyter.widget-view+json": {
              "version_major": 2,
              "version_minor": 0,
              "model_id": "c4a93c9e09c84fca84ae56bb9a2b8748"
            }
          },
          "metadata": {}
        },
        {
          "output_type": "display_data",
          "data": {
            "text/plain": [
              "HTML(value='<hr>')"
            ],
            "application/vnd.jupyter.widget-view+json": {
              "version_major": 2,
              "version_minor": 0,
              "model_id": "5dce33d454514a97bc4eaddbe4f4eada"
            }
          },
          "metadata": {}
        },
        {
          "output_type": "stream",
          "name": "stdout",
          "text": [
            "Başlangıç adresi: https://bye.hacettepe.edu.tr/login/index.php\n",
            "Tarama seviyesi: 4\n"
          ]
        },
        {
          "output_type": "display_data",
          "data": {
            "text/plain": [
              "HTML(value='<hr>')"
            ],
            "application/vnd.jupyter.widget-view+json": {
              "version_major": 2,
              "version_minor": 0,
              "model_id": "5dce33d454514a97bc4eaddbe4f4eada"
            }
          },
          "metadata": {}
        },
        {
          "output_type": "stream",
          "name": "stdout",
          "text": [
            "b'<!DOCTYPE html>\\n\\n<html  dir=\"ltr\" lang=\"tr\" xml:lang=\"tr\">\\n<head>\\n    <title>Siteye giri\\xc5\\x9f yap | BBY</title>\\n    <link rel=\"shortcut icon\" href=\"https://bye.hacettepe.edu.tr/theme/image.php/boost_union/theme/1707812101/favicon\" />\\n    <meta http-equiv=\"Content-Type\" content=\"text/html; charset=utf-8\" />\\n<meta name=\"keywords\" content=\"moodle, Siteye giri\\xc5\\x9f yap | BBY\" />\\n<link rel=\"stylesheet\" type=\"text/css\" href=\"https://bye.hacettepe.edu.tr/theme/yui_combo.php?rollup/3.18.1/yui-moodlesimple-min.css\" /><script id=\"firstthemesheet\" type=\"text/css\">/** Required in order to fix style inclusion problems in IE with YUI **/</script><link rel=\"stylesheet\" type=\"text/css\" href=\"https://bye.hacettepe.edu.tr/theme/styles.php/boost_union/1707812101_1/all\" />\\n<script>\\n//<![CDATA[\\nvar M = {}; M.yui = {};\\nM.pageloadstarttime = new Date();\\nM.cfg = {\"wwwroot\":\"https:\\\\/\\\\/bye.hacettepe.edu.tr\",\"homeurl\":{},\"sesskey\":\"E7MYV6hYW3\",\"sessiontimeout\":\"28800\",\"sessiontimeoutwarning\":\"1200\",\"themerev\":\"1707812101\",\"slasharguments\":1,\"theme\":\"boost_union\",\"iconsystemmodule\":\"core\\\\/icon_system_fontawesome\",\"jsrev\":\"1707809343\",\"admin\":\"admin\",\"svgicons\":true,\"usertimezone\":\"Avrupa\\\\/Istanbul\",\"courseId\":1,\"courseContextId\":2,\"contextid\":1,\"contextInstanceId\":0,\"langrev\":1707809343,\"templaterev\":\"1707809343\"};var yui1ConfigFn = function(me) {if(/-skin|reset|fonts|grids|base/.test(me.name)){me.type=\\'css\\';me.path=me.path.replace(/\\\\.js/,\\'.css\\');me.path=me.path.replace(/\\\\/yui2-skin/,\\'/assets/skins/sam/yui2-skin\\')}};\\nvar yui2ConfigFn = function(me) {var parts=me.name.replace(/^moodle-/,\\'\\').split(\\'-\\'),component=parts.shift(),module=parts[0],min=\\'-min\\';if(/-(skin|core)$/.test(me.name)){parts.pop();me.type=\\'css\\';min=\\'\\'}\\nif(module){var filename=parts.join(\\'-\\');me.path=component+\\'/\\'+module+\\'/\\'+filename+min+\\'.\\'+me.type}else{me.path=component+\\'/\\'+component+\\'.\\'+me.type}};\\nYUI_config = {\"debug\":false,\"base\":\"https:\\\\/\\\\/bye.hacettepe.edu.tr\\\\/lib\\\\/yuilib\\\\/3.18.1\\\\/\",\"comboBase\":\"https:\\\\/\\\\/bye.hacettepe.edu.tr\\\\/theme\\\\/yui_combo.php?\",\"combine\":true,\"filter\":null,\"insertBefore\":\"firstthemesheet\",\"groups\":{\"yui2\":{\"base\":\"https:\\\\/\\\\/bye.hacettepe.edu.tr\\\\/lib\\\\/yuilib\\\\/2in3\\\\/2.9.0\\\\/build\\\\/\",\"comboBase\":\"https:\\\\/\\\\/bye.hacettepe.edu.tr\\\\/theme\\\\/yui_combo.php?\",\"combine\":true,\"ext\":false,\"root\":\"2in3\\\\/2.9.0\\\\/build\\\\/\",\"patterns\":{\"yui2-\":{\"group\":\"yui2\",\"configFn\":yui1ConfigFn}}},\"moodle\":{\"name\":\"moodle\",\"base\":\"https:\\\\/\\\\/bye.hacettepe.edu.tr\\\\/theme\\\\/yui_combo.php?m\\\\/1707809343\\\\/\",\"combine\":true,\"comboBase\":\"https:\\\\/\\\\/bye.hacettepe.edu.tr\\\\/theme\\\\/yui_combo.php?\",\"ext\":false,\"root\":\"m\\\\/1707809343\\\\/\",\"patterns\":{\"moodle-\":{\"group\":\"moodle\",\"configFn\":yui2ConfigFn}},\"filter\":null,\"modules\":{\"moodle-core-blocks\":{\"requires\":[\"base\",\"node\",\"io\",\"dom\",\"dd\",\"dd-scroll\",\"moodle-core-dragdrop\",\"moodle-core-notification\"]},\"moodle-core-handlebars\":{\"condition\":{\"trigger\":\"handlebars\",\"when\":\"after\"}},\"moodle-core-notification\":{\"requires\":[\"moodle-core-notification-dialogue\",\"moodle-core-notification-alert\",\"moodle-core-notification-confirm\",\"moodle-core-notification-exception\",\"moodle-core-notification-ajaxexception\"]},\"moodle-core-notification-dialogue\":{\"requires\":[\"base\",\"node\",\"panel\",\"escape\",\"event-key\",\"dd-plugin\",\"moodle-core-widget-focusafterclose\",\"moodle-core-lockscroll\"]},\"moodle-core-notification-alert\":{\"requires\":[\"moodle-core-notification-dialogue\"]},\"moodle-core-notification-confirm\":{\"requires\":[\"moodle-core-notification-dialogue\"]},\"moodle-core-notification-exception\":{\"requires\":[\"moodle-core-notification-dialogue\"]},\"moodle-core-notification-ajaxexception\":{\"requires\":[\"moodle-core-notification-dialogue\"]},\"moodle-core-event\":{\"requires\":[\"event-custom\"]},\"moodle-core-actionmenu\":{\"requires\":[\"base\",\"event\",\"node-event-simulate\"]},\"moodle-core-lockscroll\":{\"requires\":[\"plugin\",\"base-build\"]},\"moodle-core-maintenancemodetimer\":{\"requires\":[\"base\",\"node\"]},\"moodle-core-dragdrop\":{\"requires\":[\"base\",\"node\",\"io\",\"dom\",\"dd\",\"event-key\",\"event-focus\",\"moodle-core-notification\"]},\"moodle-core-chooserdialogue\":{\"requires\":[\"base\",\"panel\",\"moodle-core-notification\"]},\"moodle-core-formchangechecker\":{\"requires\":[\"base\",\"event-focus\",\"moodle-core-event\"]},\"moodle-core-languninstallconfirm\":{\"requires\":[\"base\",\"node\",\"moodle-core-notification-confirm\",\"moodle-core-notification-alert\"]},\"moodle-core_availability-form\":{\"requires\":[\"base\",\"node\",\"event\",\"event-delegate\",\"panel\",\"moodle-core-notification-dialogue\",\"json\"]},\"moodle-backup-confirmcancel\":{\"requires\":[\"node\",\"node-event-simulate\",\"moodle-core-notification-confirm\"]},\"moodle-backup-backupselectall\":{\"requires\":[\"node\",\"event\",\"node-event-simulate\",\"anim\"]},\"moodle-course-management\":{\"requires\":[\"base\",\"node\",\"io-base\",\"moodle-core-notification-exception\",\"json-parse\",\"dd-constrain\",\"dd-proxy\",\"dd-drop\",\"dd-delegate\",\"node-event-delegate\"]},\"moodle-course-categoryexpander\":{\"requires\":[\"node\",\"event-key\"]},\"moodle-course-util\":{\"requires\":[\"node\"],\"use\":[\"moodle-course-util-base\"],\"submodules\":{\"moodle-course-util-base\":{},\"moodle-course-util-section\":{\"requires\":[\"node\",\"moodle-course-util-base\"]},\"moodle-course-util-cm\":{\"requires\":[\"node\",\"moodle-course-util-base\"]}}},\"moodle-course-dragdrop\":{\"requires\":[\"base\",\"node\",\"io\",\"dom\",\"dd\",\"dd-scroll\",\"moodle-core-dragdrop\",\"moodle-core-notification\",\"moodle-course-coursebase\",\"moodle-course-util\"]},\"moodle-form-shortforms\":{\"requires\":[\"node\",\"base\",\"selector-css3\",\"moodle-core-event\"]},\"moodle-form-dateselector\":{\"requires\":[\"base\",\"node\",\"overlay\",\"calendar\"]},\"moodle-question-preview\":{\"requires\":[\"base\",\"dom\",\"event-delegate\",\"event-key\",\"core_question_engine\"]},\"moodle-question-chooser\":{\"requires\":[\"moodle-core-chooserdialogue\"]},\"moodle-question-searchform\":{\"requires\":[\"base\",\"node\"]},\"moodle-availability_completion-form\":{\"requires\":[\"base\",\"node\",\"event\",\"moodle-core_availability-form\"]},\"moodle-availability_date-form\":{\"requires\":[\"base\",\"node\",\"event\",\"io\",\"moodle-core_availability-form\"]},\"moodle-availability_grade-form\":{\"requires\":[\"base\",\"node\",\"event\",\"moodle-core_availability-form\"]},\"moodle-availability_group-form\":{\"requires\":[\"base\",\"node\",\"event\",\"moodle-core_availability-form\"]},\"moodle-availability_grouping-form\":{\"requires\":[\"base\",\"node\",\"event\",\"moodle-core_availability-form\"]},\"moodle-availability_profile-form\":{\"requires\":[\"base\",\"node\",\"event\",\"moodle-core_availability-form\"]},\"moodle-mod_assign-history\":{\"requires\":[\"node\",\"transition\"]},\"moodle-mod_attendance-groupfilter\":{\"requires\":[\"base\",\"node\"]},\"moodle-mod_quiz-quizbase\":{\"requires\":[\"base\",\"node\"]},\"moodle-mod_quiz-questionchooser\":{\"requires\":[\"moodle-core-chooserdialogue\",\"moodle-mod_quiz-util\",\"querystring-parse\"]},\"moodle-mod_quiz-toolboxes\":{\"requires\":[\"base\",\"node\",\"event\",\"event-key\",\"io\",\"moodle-mod_quiz-quizbase\",\"moodle-mod_quiz-util-slot\",\"moodle-core-notification-ajaxexception\"]},\"moodle-mod_quiz-util\":{\"requires\":[\"node\",\"moodle-core-actionmenu\"],\"use\":[\"moodle-mod_quiz-util-base\"],\"submodules\":{\"moodle-mod_quiz-util-base\":{},\"moodle-mod_quiz-util-slot\":{\"requires\":[\"node\",\"moodle-mod_quiz-util-base\"]},\"moodle-mod_quiz-util-page\":{\"requires\":[\"node\",\"moodle-mod_quiz-util-base\"]}}},\"moodle-mod_quiz-dragdrop\":{\"requires\":[\"base\",\"node\",\"io\",\"dom\",\"dd\",\"dd-scroll\",\"moodle-core-dragdrop\",\"moodle-core-notification\",\"moodle-mod_quiz-quizbase\",\"moodle-mod_quiz-util-base\",\"moodle-mod_quiz-util-page\",\"moodle-mod_quiz-util-slot\",\"moodle-course-util\"]},\"moodle-mod_quiz-autosave\":{\"requires\":[\"base\",\"node\",\"event\",\"event-valuechange\",\"node-event-delegate\",\"io-form\"]},\"moodle-mod_quiz-modform\":{\"requires\":[\"base\",\"node\",\"event\"]},\"moodle-message_airnotifier-toolboxes\":{\"requires\":[\"base\",\"node\",\"io\"]},\"moodle-filter_glossary-autolinker\":{\"requires\":[\"base\",\"node\",\"io-base\",\"json-parse\",\"event-delegate\",\"overlay\",\"moodle-core-event\",\"moodle-core-notification-alert\",\"moodle-core-notification-exception\",\"moodle-core-notification-ajaxexception\"]},\"moodle-filter_mathjaxloader-loader\":{\"requires\":[\"moodle-core-event\"]},\"moodle-editor_atto-rangy\":{\"requires\":[]},\"moodle-editor_atto-editor\":{\"requires\":[\"node\",\"transition\",\"io\",\"overlay\",\"escape\",\"event\",\"event-simulate\",\"event-custom\",\"node-event-html5\",\"node-event-simulate\",\"yui-throttle\",\"moodle-core-notification-dialogue\",\"moodle-core-notification-confirm\",\"moodle-editor_atto-rangy\",\"handlebars\",\"timers\",\"querystring-stringify\"]},\"moodle-editor_atto-plugin\":{\"requires\":[\"node\",\"base\",\"escape\",\"event\",\"event-outside\",\"handlebars\",\"event-custom\",\"timers\",\"moodle-editor_atto-menu\"]},\"moodle-editor_atto-menu\":{\"requires\":[\"moodle-core-notification-dialogue\",\"node\",\"event\",\"event-custom\"]},\"moodle-report_eventlist-eventfilter\":{\"requires\":[\"base\",\"event\",\"node\",\"node-event-delegate\",\"datatable\",\"autocomplete\",\"autocomplete-filters\"]},\"moodle-report_loglive-fetchlogs\":{\"requires\":[\"base\",\"event\",\"node\",\"io\",\"node-event-delegate\"]},\"moodle-gradereport_history-userselector\":{\"requires\":[\"escape\",\"event-delegate\",\"event-key\",\"handlebars\",\"io-base\",\"json-parse\",\"moodle-core-notification-dialogue\"]},\"moodle-qbank_editquestion-chooser\":{\"requires\":[\"moodle-core-chooserdialogue\"]},\"moodle-tool_lp-dragdrop-reorder\":{\"requires\":[\"moodle-core-dragdrop\"]},\"moodle-assignfeedback_editpdf-editor\":{\"requires\":[\"base\",\"event\",\"node\",\"io\",\"graphics\",\"json\",\"event-move\",\"event-resize\",\"transition\",\"querystring-stringify-simple\",\"moodle-core-notification-dialog\",\"moodle-core-notification-alert\",\"moodle-core-notification-warning\",\"moodle-core-notification-exception\",\"moodle-core-notification-ajaxexception\"]},\"moodle-atto_accessibilitychecker-button\":{\"requires\":[\"color-base\",\"moodle-editor_atto-plugin\"]},\"moodle-atto_accessibilityhelper-button\":{\"requires\":[\"moodle-editor_atto-plugin\"]},\"moodle-atto_align-button\":{\"requires\":[\"moodle-editor_atto-plugin\"]},\"moodle-atto_bold-button\":{\"requires\":[\"moodle-editor_atto-plugin\"]},\"moodle-atto_charmap-button\":{\"requires\":[\"moodle-editor_atto-plugin\"]},\"moodle-atto_clear-button\":{\"requires\":[\"moodle-editor_atto-plugin\"]},\"moodle-atto_collapse-button\":{\"requires\":[\"moodle-editor_atto-plugin\"]},\"moodle-atto_emojipicker-button\":{\"requires\":[\"moodle-editor_atto-plugin\"]},\"moodle-atto_emoticon-button\":{\"requires\":[\"moodle-editor_atto-plugin\"]},\"moodle-atto_equation-button\":{\"requires\":[\"moodle-editor_atto-plugin\",\"moodle-core-event\",\"io\",\"event-valuechange\",\"tabview\",\"array-extras\"]},\"moodle-atto_h5p-button\":{\"requires\":[\"moodle-editor_atto-plugin\"]},\"moodle-atto_html-codemirror\":{\"requires\":[\"moodle-atto_html-codemirror-skin\"]},\"moodle-atto_html-button\":{\"requires\":[\"promise\",\"moodle-editor_atto-plugin\",\"moodle-atto_html-beautify\",\"moodle-atto_html-codemirror\",\"event-valuechange\"]},\"moodle-atto_html-beautify\":{},\"moodle-atto_image-button\":{\"requires\":[\"moodle-editor_atto-plugin\"]},\"moodle-atto_indent-button\":{\"requires\":[\"moodle-editor_atto-plugin\"]},\"moodle-atto_italic-button\":{\"requires\":[\"moodle-editor_atto-plugin\"]},\"moodle-atto_link-button\":{\"requires\":[\"moodle-editor_atto-plugin\"]},\"moodle-atto_managefiles-usedfiles\":{\"requires\":[\"node\",\"escape\"]},\"moodle-atto_managefiles-button\":{\"requires\":[\"moodle-editor_atto-plugin\"]},\"moodle-atto_media-button\":{\"requires\":[\"moodle-editor_atto-plugin\",\"moodle-form-shortforms\"]},\"moodle-atto_noautolink-button\":{\"requires\":[\"moodle-editor_atto-plugin\"]},\"moodle-atto_orderedlist-button\":{\"requires\":[\"moodle-editor_atto-plugin\"]},\"moodle-atto_recordrtc-button\":{\"requires\":[\"moodle-editor_atto-plugin\",\"moodle-atto_recordrtc-recording\"]},\"moodle-atto_recordrtc-recording\":{\"requires\":[\"moodle-atto_recordrtc-button\"]},\"moodle-atto_rtl-button\":{\"requires\":[\"moodle-editor_atto-plugin\"]},\"moodle-atto_strike-button\":{\"requires\":[\"moodle-editor_atto-plugin\"]},\"moodle-atto_subscript-button\":{\"requires\":[\"moodle-editor_atto-plugin\"]},\"moodle-atto_superscript-button\":{\"requires\":[\"moodle-editor_atto-plugin\"]},\"moodle-atto_table-button\":{\"requires\":[\"moodle-editor_atto-plugin\",\"moodle-editor_atto-menu\",\"event\",\"event-valuechange\"]},\"moodle-atto_title-button\":{\"requires\":[\"moodle-editor_atto-plugin\"]},\"moodle-atto_underline-button\":{\"requires\":[\"moodle-editor_atto-plugin\"]},\"moodle-atto_undo-button\":{\"requires\":[\"moodle-editor_atto-plugin\"]},\"moodle-atto_unorderedlist-button\":{\"requires\":[\"moodle-editor_atto-plugin\"]}}},\"gallery\":{\"name\":\"gallery\",\"base\":\"https:\\\\/\\\\/bye.hacettepe.edu.tr\\\\/lib\\\\/yuilib\\\\/gallery\\\\/\",\"combine\":true,\"comboBase\":\"https:\\\\/\\\\/bye.hacettepe.edu.tr\\\\/theme\\\\/yui_combo.php?\",\"ext\":false,\"root\":\"gallery\\\\/1707809343\\\\/\",\"patterns\":{\"gallery-\":{\"group\":\"gallery\"}}}},\"modules\":{\"core_filepicker\":{\"name\":\"core_filepicker\",\"fullpath\":\"https:\\\\/\\\\/bye.hacettepe.edu.tr\\\\/lib\\\\/javascript.php\\\\/1707809343\\\\/repository\\\\/filepicker.js\",\"requires\":[\"base\",\"node\",\"node-event-simulate\",\"json\",\"async-queue\",\"io-base\",\"io-upload-iframe\",\"io-form\",\"yui2-treeview\",\"panel\",\"cookie\",\"datatable\",\"datatable-sort\",\"resize-plugin\",\"dd-plugin\",\"escape\",\"moodle-core_filepicker\",\"moodle-core-notification-dialogue\"]},\"core_comment\":{\"name\":\"core_comment\",\"fullpath\":\"https:\\\\/\\\\/bye.hacettepe.edu.tr\\\\/lib\\\\/javascript.php\\\\/1707809343\\\\/comment\\\\/comment.js\",\"requires\":[\"base\",\"io-base\",\"node\",\"json\",\"yui2-animation\",\"overlay\",\"escape\"]},\"mathjax\":{\"name\":\"mathjax\",\"fullpath\":\"https:\\\\/\\\\/cdn.jsdelivr.net\\\\/npm\\\\/mathjax@2.7.9\\\\/MathJax.js?delayStartupUntil=configured\"}},\"logInclude\":[],\"logExclude\":[],\"logLevel\":null};\\nM.yui.loader = {modules: {}};\\n\\n//]]>\\n</script>\\n\\n<meta name=\"robots\" content=\"noindex\" />\\r\\n<meta name=\"moodle-validation\" content=\"1cc7ebaae980e5f596afc26867ac7fce\"><meta name=\"robots\" content=\"noindex\" />\\n    <meta name=\"viewport\" content=\"width=device-width, initial-scale=1.0\">\\n</head>\\n<body  id=\"page-login-index\" class=\"format-site  path-login dir-ltr lang-tr yui-skin-sam yui3-skin-sam bye-hacettepe-edu-tr pagelayout-login course-1 context-1 notloggedin theme_boost-union-footerbuttondesktop\">\\n<div class=\"toast-wrapper mx-auto py-0 fixed-top\" role=\"status\" aria-live=\"polite\"></div>\\n\\n<div id=\"page-wrapper\">\\n\\n    <div>\\n    <a class=\"sr-only sr-only-focusable\" href=\"#maincontent\">Ana i\\xc3\\xa7eri\\xc4\\x9fe git</a>\\n</div><script src=\"https://bye.hacettepe.edu.tr/lib/javascript.php/1707809343/lib/polyfills/polyfill.js\"></script>\\n<script src=\"https://bye.hacettepe.edu.tr/theme/yui_combo.php?rollup/3.18.1/yui-moodlesimple-min.js\"></script><script src=\"https://bye.hacettepe.edu.tr/lib/javascript.php/1707809343/lib/javascript-static.js\"></script>\\n<script>\\n//<![CDATA[\\ndocument.body.className += \\' jsenabled\\';\\n//]]>\\n</script>\\n\\n\\n\\n    <div id=\"page\" class=\"container-fluid pt-5 mt-0\">\\n        \\n        <div id=\"page-content\" class=\"row\">\\n            <div id=\"region-main-box\" class=\"col-12\">\\n                <section id=\"region-main\" class=\"col-12 h-100\" aria-label=\"\\xc4\\xb0\\xc3\\xa7erik\">\\n                <div class=\"login-wrapper login-wrapper-center\">\\n                    <div class=\"login-container \">\\n                    <div role=\"main\"><span id=\"maincontent\"></span><div class=\"loginform\">\\n        <h1 class=\"login-heading mb-4\">BBY - \\xc3\\x96\\xc4\\x9frenme Y\\xc3\\xb6netim Sistemi sayfas\\xc4\\xb1na giri\\xc5\\x9f yap</h1>\\n    <form class=\"login-form\" action=\"https://bye.hacettepe.edu.tr/login/index.php\" method=\"post\" id=\"login\">\\n        <input id=\"anchor\" type=\"hidden\" name=\"anchor\" value=\"\">\\n        <script>document.getElementById(\\'anchor\\').value = location.hash;</script>\\n        <input type=\"hidden\" name=\"logintoken\" value=\"krHm9ASX7cySh3cJXbOgUQuIOY6PuA7g\">\\n        <div class=\"login-form-username form-group\">\\n            <label for=\"username\" class=\"sr-only\">\\n                    Kullan\\xc4\\xb1c\\xc4\\xb1 ad\\xc4\\xb1\\n            </label>\\n            <input type=\"text\" name=\"username\" id=\"username\" class=\"form-control form-control-lg\" value=\"\" placeholder=\"Kullan\\xc4\\xb1c\\xc4\\xb1 ad\\xc4\\xb1\" autocomplete=\"username\">\\n        </div>\\n        <div class=\"login-form-password form-group\">\\n            <label for=\"password\" class=\"sr-only\">\\xc5\\x9eifre</label>\\n            <input type=\"password\" name=\"password\" id=\"password\" value=\"\" class=\"form-control form-control-lg\" placeholder=\"\\xc5\\x9eifre\" autocomplete=\"current-password\">\\n        </div>\\n        <div class=\"login-form-submit form-group\">\\n            <button class=\"btn btn-primary btn-lg\" type=\"submit\" id=\"loginbtn\">Giri\\xc5\\x9f yap</button>\\n        </div>\\n        <div class=\"login-form-forgotpassword form-group\">\\n            <a href=\"https://bye.hacettepe.edu.tr/login/forgot_password.php\">\\xc5\\x9eifrenizi mi unuttunuz?</a>\\n        </div>\\n    </form>\\n        <div class=\"login-divider\"></div>\\n        <div class=\"login-instructions \">\\n            <h2 class=\"login-heading\">=Sistem Duyurular\\xc4\\xb1=</h2>\\n            <ul><li><span style=\"font-size:0.9375rem;\"><a href=\"https://bye.hacettepe.edu.tr/login/forgot_password.php\" style=\"background-color:#ffffff;font-size:1rem;\">\\xc5\\x9eifremi Unuttum</a><span style=\"font-size:1rem;\"> ba\\xc4\\x9flant\\xc4\\xb1s\\xc4\\xb1 aktif durumdad\\xc4\\xb1r ancak sistemin g\\xc3\\xb6nderdi\\xc4\\x9fi e-postalar baz\\xc4\\xb1 durumlarda <strong>Spam (\\xc3\\x96nemsiz E-posta)</strong> klas\\xc3\\xb6r\\xc3\\xbcne d\\xc3\\xbc\\xc5\\x9febilmektedir. L\\xc3\\xbctfen\\xc2\\xa0Spam (\\xc3\\x96nemsiz E-posta) klas\\xc3\\xb6r\\xc3\\xbcn\\xc3\\xbcz\\xc3\\xbc de kontrol ediniz.<br /><br /></span></span></li><li><span style=\"font-size:0.9375rem;\">Sistemle ilgili soru, g\\xc3\\xb6r\\xc3\\xbc\\xc5\\x9f ve \\xc3\\xb6nerileriniz i\\xc3\\xa7in </span><span style=\"font-size:0.9375rem;\">\\xc3\\x96\\xc4\\x9fr. G\\xc3\\xb6r. Dr. Turgay Ba\\xc5\\x9f</span><span style=\"font-size:0.9375rem;\"> ile ileti\\xc5\\x9fime ge\\xc3\\xa7ebilirsiniz.<br /></span><a href=\"mailto:%20turgaybas@hacettepe.edu.tr\" target=\"_blank\" style=\"background-color:rgb(255,255,255);font-size:0.9375rem;\" rel=\"noreferrer noopener\">turgaybas@hacettepe.edu.tr</a><br /><a href=\"mailto:turgaybas@gmail.com\" target=\"_blank\" style=\"background-color:rgb(255,255,255);font-size:0.9375rem;\" rel=\"noreferrer noopener\">turgaybas@gmail.com</a></li></ul><p></p>\\n        </div>\\n        <div class=\"login-divider\"></div>\\n        <h2 class=\"login-heading\">Baz\\xc4\\xb1 derslere misafir olarak eri\\xc5\\x9febilirsiniz</h2>\\n        <form action=\"https://bye.hacettepe.edu.tr/login/index.php\" method=\"post\" id=\"guestlogin\">\\n            <input type=\"hidden\" name=\"logintoken\" value=\"krHm9ASX7cySh3cJXbOgUQuIOY6PuA7g\">\\n            <input type=\"hidden\" name=\"username\" value=\"guest\" />\\n            <input type=\"hidden\" name=\"password\" value=\"guest\" />\\n            <button class=\"btn btn-secondary\" type=\"submit\" id=\"loginguestbtn\">Misafir olarak giri\\xc5\\x9f yap</button>\\n        </form>\\n    <div class=\"login-divider\"></div>\\n    <div class=\"d-flex\">\\n            <div class=\"login-languagemenu\">\\n                <div class=\"action-menu moodle-actionmenu\" id=\"action-menu-0\" data-enhance=\"moodle-core-actionmenu\">\\n                \\n                        <div class=\"menubar d-flex \" id=\"action-menu-0-menubar\">\\n                \\n                            \\n                \\n                \\n                                <div class=\"action-menu-trigger\">\\n                                    <div class=\"dropdown\">\\n                                        <a\\n                                            href=\"#\"\\n                                            tabindex=\"0\"\\n                                            class=\" dropdown-toggle icon-no-margin\"\\n                                            id=\"action-menu-toggle-0\"\\n                                            aria-label=\"T\\xc3\\xbcrk\\xc3\\xa7e \\xe2\\x80\\x8e(tr)\\xe2\\x80\\x8e\"\\n                                            data-toggle=\"dropdown\"\\n                                            role=\"button\"\\n                                            aria-haspopup=\"true\"\\n                                            aria-expanded=\"false\"\\n                                            aria-controls=\"action-menu-0-menu\"\\n                                        >\\n                                            \\n                                            T\\xc3\\xbcrk\\xc3\\xa7e \\xe2\\x80\\x8e(tr)\\xe2\\x80\\x8e\\n                                                \\n                                            <b class=\"caret\"></b>\\n                                        </a>\\n                                            <div class=\"dropdown-menu menu dropdown-menu-right\" id=\"action-menu-0-menu\" data-rel=\"menu-content\" aria-labelledby=\"action-menu-toggle-0\" role=\"menu\">\\n                                                                                                <a href=\"https://bye.hacettepe.edu.tr/login/index.php?lang=en\" class=\"dropdown-item menu-action\" data-lang=\"en\" lang=\"en\" role=\"menuitem\" tabindex=\"-1\" aria-labelledby=\"actionmenuaction-1\">\\n                                                <span class=\"menu-action-text\" id=\"actionmenuaction-1\">English \\xe2\\x80\\x8e(en)\\xe2\\x80\\x8e</span>\\n                                        </a>\\n                                                                                                <a href=\"#\" class=\"dropdown-item menu-action\" role=\"menuitem\" tabindex=\"-1\" aria-labelledby=\"actionmenuaction-2\">\\n                                                <span class=\"menu-action-text\" id=\"actionmenuaction-2\">T\\xc3\\xbcrk\\xc3\\xa7e \\xe2\\x80\\x8e(tr)\\xe2\\x80\\x8e</span>\\n                                        </a>\\n                                            </div>\\n                                    </div>\\n                                </div>\\n                \\n                        </div>\\n                \\n                </div>\\n            </div>\\n            <div class=\"divider border-left align-self-center mx-3\"></div>\\n        <button type=\"button\" class=\"btn btn-secondary\"  data-modal=\"alert\" data-modal-title-str=\\'[\"cookiesenabled\", \"core\"]\\'  data-modal-content-str=\\'[\"cookiesenabled_help_html\", \"core\"]\\'>Cookies notice</button>\\n    </div>\\n</div></div>\\n                    </div>\\n                </div>\\n                </section>\\n            </div>\\n        </div>\\n    </div>\\n    \\n    <footer id=\"page-footer\" class=\"footer-popover bg-white\">\\n        <div data-region=\"footer-container-popover\">\\n                <button class=\"btn btn-icon bg-secondary icon-no-margin btn-footer-popover\" data-action=\"footer-popover\" aria-label=\"Show footer\">\\n                    <i class=\"icon fa fa-question fa-fw \" aria-hidden=\"true\"  ></i>\\n                </button>\\n        </div>\\n            <div class=\"footer-content-popover container\" data-region=\"footer-content-popover\">\\n                    <div class=\"footer-section p-3 border-bottom\">\\n                        <div class=\"logininfo\">\\n                            <div class=\"logininfo\">Giri\\xc5\\x9f yapmad\\xc4\\xb1n\\xc4\\xb1z.</div>\\n                        </div>\\n                    </div>\\n                <div class=\"tool_usertours-resettourcontainer\"></div>\\n                \\n                    <div class=\"footer-section p-3 border-bottom\">\\n                        <div class=\"tool_dataprivacy\"><a href=\"https://bye.hacettepe.edu.tr/admin/tool/dataprivacy/summary.php\">Veri saklama \\xc3\\xb6zeti</a></div><a class=\"mobilelink\" href=\"https://download.moodle.org/mobile?version=2023042402.08&amp;lang=tr&amp;iosappid=633359593&amp;androidappid=com.moodle.moodlemobile\">Mobil uygulamay\\xc4\\xb1 edinin</a>\\n                    </div>\\n                    <div class=\"footer-section p-3 border-bottom\">\\n                        <div>Powered by <a href=\"https://moodle.com\">Moodle</a></div>\\n                    </div>\\n                <script>\\n//<![CDATA[\\nvar require = {\\n    baseUrl : \\'https://bye.hacettepe.edu.tr/lib/requirejs.php/1707809343/\\',\\n    // We only support AMD modules with an explicit define() statement.\\n    enforceDefine: true,\\n    skipDataMain: true,\\n    waitSeconds : 0,\\n\\n    paths: {\\n        jquery: \\'https://bye.hacettepe.edu.tr/lib/javascript.php/1707809343/lib/jquery/jquery-3.6.4.min\\',\\n        jqueryui: \\'https://bye.hacettepe.edu.tr/lib/javascript.php/1707809343/lib/jquery/ui-1.13.2/jquery-ui.min\\',\\n        jqueryprivate: \\'https://bye.hacettepe.edu.tr/lib/javascript.php/1707809343/lib/requirejs/jquery-private\\'\\n    },\\n\\n    // Custom jquery config map.\\n    map: {\\n      // \\'*\\' means all modules will get \\'jqueryprivate\\'\\n      // for their \\'jquery\\' dependency.\\n      \\'*\\': { jquery: \\'jqueryprivate\\' },\\n      // Stub module for \\'process\\'. This is a workaround for a bug in MathJax (see MDL-60458).\\n      \\'*\\': { process: \\'core/first\\' },\\n\\n      // \\'jquery-private\\' wants the real jQuery module\\n      // though. If this line was not here, there would\\n      // be an unresolvable cyclic dependency.\\n      jqueryprivate: { jquery: \\'jquery\\' }\\n    }\\n};\\n\\n//]]>\\n</script>\\n<script src=\"https://bye.hacettepe.edu.tr/lib/javascript.php/1707809343/lib/requirejs/require.min.js\"></script>\\n<script>\\n//<![CDATA[\\nM.util.js_pending(\"core/first\");\\nrequire([\\'core/first\\'], function() {\\nrequire([\\'core/prefetch\\'])\\n;\\nrequire([\"media_videojs/loader\"], function(loader) {\\n    loader.setUp(\\'tr\\');\\n});;\\n\\nrequire([\\'theme_boost/footer-popover\\'], function(FooterPopover) {\\n    FooterPopover.init();\\n});\\n;\\n\\nM.util.js_pending(\\'theme_boost/loader\\');\\nrequire([\\'theme_boost/loader\\'], function() {\\n  M.util.js_complete(\\'theme_boost/loader\\');\\n});\\n;\\n\\n            var userNameField = document.getElementById(\\'username\\');\\n            if (userNameField.value.length == 0) {\\n                userNameField.focus();\\n            } else {\\n                document.getElementById(\\'password\\').focus();\\n            }\\n    require([\\'core_form/submit\\'], function(Submit) {\\n        Submit.init(\"loginbtn\");\\n            Submit.init(\"loginguestbtn\");\\n    });\\n;\\nM.util.js_pending(\\'core/notification\\'); require([\\'core/notification\\'], function(amd) {amd.init(1, []); M.util.js_complete(\\'core/notification\\');});;\\nM.util.js_pending(\\'core/log\\'); require([\\'core/log\\'], function(amd) {amd.setConfig({\"level\":\"warn\"}); M.util.js_complete(\\'core/log\\');});;\\nM.util.js_pending(\\'core/page_global\\'); require([\\'core/page_global\\'], function(amd) {amd.init(); M.util.js_complete(\\'core/page_global\\');});;\\nM.util.js_pending(\\'core/utility\\'); require([\\'core/utility\\'], function(amd) {M.util.js_complete(\\'core/utility\\');});\\n    M.util.js_complete(\"core/first\");\\n});\\n//]]>\\n</script>\\n<script>\\n//<![CDATA[\\nM.str = {\"moodle\":{\"lastmodified\":\"En son de\\\\u011fi\\\\u015ftirme\",\"name\":\"Ad\\\\u0131\",\"error\":\"Hata\",\"info\":\"Bilgi\",\"yes\":\"Evet\",\"no\":\"Hay\\\\u0131r\",\"cancel\":\"\\\\u0130ptal\",\"confirm\":\"Onayla\",\"areyousure\":\"Emin misiniz?\",\"closebuttontitle\":\"Kapat\",\"unknownerror\":\"Bilinmeyen hata\",\"file\":\"Dosya\",\"url\":\"URL\",\"collapseall\":\"Hepsini daralt\",\"expandall\":\"Hepsini geni\\\\u015flet\"},\"repository\":{\"type\":\"T\\\\u00fcr\",\"size\":\"Boyut\",\"invalidjson\":\"Ge\\\\u00e7ersiz JSON ifadesi\",\"nofilesattached\":\"Dosya ili\\\\u015fkilendirilmedi\",\"filepicker\":\"Dosya se\\\\u00e7ici\",\"logout\":\"\\\\u00c7\\\\u0131k\\\\u0131\\\\u015f\",\"nofilesavailable\":\"Uygun dosya yok\",\"norepositoriesavailable\":\"Maalesef, mevcut depolar\\\\u0131n\\\\u0131zdan hi\\\\u00e7biri bu bi\\\\u00e7imde dosya d\\\\u00f6nd\\\\u00fcremez.\",\"fileexistsdialogheader\":\"Bu dosya var\",\"fileexistsdialog_editor\":\"Bu ada sahip bir dosya, d\\\\u00fczenlemekte oldu\\\\u011funuz metne zaten eklenmi\\\\u015ftir.\",\"fileexistsdialog_filemanager\":\"Bu isimle zaten bir dosya var\",\"renameto\":\"\\\\u015e\\\\u00f6yle yeniden adland\\\\u0131r \\\\\"{$a}\\\\\"\",\"referencesexist\":\"Bu dosyay\\\\u0131 kaynak olarak kullanan {$a} tane takma ad\\\\/k\\\\u0131sayol dosyalar\\\\u0131 var\",\"select\":\"Se\\\\u00e7\"},\"admin\":{\"confirmdeletecomments\":\"Yorumlar\\\\u0131 silmek \\\\u00fczeresiniz, bunu yapmak istedi\\\\u011finize emin misin?\",\"confirmation\":\"Onaylama\"},\"debug\":{\"debuginfo\":\"Debug info\",\"line\":\"Line\",\"stacktrace\":\"Stack trace\"},\"langconfig\":{\"labelsep\":\":\"}};\\n//]]>\\n</script>\\n<script>\\n//<![CDATA[\\n(function() {Y.use(\"moodle-filter_mathjaxloader-loader\",function() {M.filter_mathjaxloader.configure({\"mathjaxconfig\":\"\\\\nMathJax.Hub.Config({\\\\n    config: [\\\\\"Accessible.js\\\\\", \\\\\"Safe.js\\\\\"],\\\\n    errorSettings: { message: [\\\\\"!\\\\\"] },\\\\n    skipStartupTypeset: true,\\\\n    messageStyle: \\\\\"none\\\\\"\\\\n});\\\\n\",\"lang\":\"tr\"});\\n});\\nM.util.help_popups.setup(Y);\\n M.util.js_pending(\\'random6713823ab82b64\\'); Y.on(\\'domready\\', function() { M.util.js_complete(\"init\");  M.util.js_complete(\\'random6713823ab82b64\\'); });\\n})();\\n//]]>\\n</script>\\n\\n            </div>\\n    \\n        <div class=\"footer-content-debugging footer-dark bg-dark text-light\">\\n            <div class=\"container-fluid footer-dark-inner\">\\n                \\n            </div>\\n        </div>\\n    \\n    </footer>\\n    \\n</div>\\n\\n</body>\\n</html>'\n"
          ]
        },
        {
          "output_type": "display_data",
          "data": {
            "text/plain": [
              "HTML(value='<hr>')"
            ],
            "application/vnd.jupyter.widget-view+json": {
              "version_major": 2,
              "version_minor": 0,
              "model_id": "5dce33d454514a97bc4eaddbe4f4eada"
            }
          },
          "metadata": {}
        },
        {
          "output_type": "display_data",
          "data": {
            "text/plain": [
              "HTML(value='<h2>Tarama sonuçları:</h2>')"
            ],
            "application/vnd.jupyter.widget-view+json": {
              "version_major": 2,
              "version_minor": 0,
              "model_id": "019dd44b1a2a46de9d0220ac88f627d6"
            }
          },
          "metadata": {}
        },
        {
          "output_type": "stream",
          "name": "stdout",
          "text": [
            "https://bye.hacettepe.edu.tr/login/index.php  -  Siteye giriş yap | BBY\n"
          ]
        },
        {
          "output_type": "display_data",
          "data": {
            "text/plain": [
              "HTML(value='<hr>')"
            ],
            "application/vnd.jupyter.widget-view+json": {
              "version_major": 2,
              "version_minor": 0,
              "model_id": "5dce33d454514a97bc4eaddbe4f4eada"
            }
          },
          "metadata": {}
        },
        {
          "output_type": "stream",
          "name": "stdout",
          "text": [
            "Bağlantı: #maincontent\n",
            "Bağlantı: https://bye.hacettepe.edu.tr/login/forgot_password.php\n",
            "Bağlantı: https://bye.hacettepe.edu.tr/login/forgot_password.php\n",
            "Bağlantı: mailto:%20turgaybas@hacettepe.edu.tr\n",
            "Bağlantı: mailto:turgaybas@gmail.com\n",
            "Bağlantı: #\n",
            "Bağlantı: https://bye.hacettepe.edu.tr/login/index.php?lang=en\n",
            "Bağlantı: #\n",
            "Bağlantı: https://bye.hacettepe.edu.tr/admin/tool/dataprivacy/summary.php\n",
            "Bağlantı: https://download.moodle.org/mobile?version=2023042402.08&lang=tr&iosappid=633359593&androidappid=com.moodle.moodlemobile\n",
            "Bağlantı: https://moodle.com\n"
          ]
        }
      ]
    }
  ]
}