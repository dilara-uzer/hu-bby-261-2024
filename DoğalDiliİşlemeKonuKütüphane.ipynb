{
  "nbformat": 4,
  "nbformat_minor": 0,
  "metadata": {
    "colab": {
      "provenance": [],
      "mount_file_id": "1Nvk6IIP07wRVhVSfgvUg_2vmZ5nDr48k",
      "authorship_tag": "ABX9TyO1aO9bFwGnTqrfKaeUTJRN",
      "include_colab_link": true
    },
    "kernelspec": {
      "name": "python3",
      "display_name": "Python 3"
    },
    "language_info": {
      "name": "python"
    }
  },
  "cells": [
    {
      "cell_type": "markdown",
      "metadata": {
        "id": "view-in-github",
        "colab_type": "text"
      },
      "source": [
        "<a href=\"https://colab.research.google.com/github/dilara-uzer/hu-bby-261-2024/blob/main/Do%C4%9FalDili%C4%B0%C5%9FlemeKonuK%C3%BCt%C3%BCphane.ipynb\" target=\"_parent\"><img src=\"https://colab.research.google.com/assets/colab-badge.svg\" alt=\"Open In Colab\"/></a>"
      ]
    },
    {
      "cell_type": "code",
      "source": [
        "!pip install scikit-learn\n",
        "!pip install nltk"
      ],
      "metadata": {
        "id": "LJsSQYP0dOoX",
        "outputId": "1f59975e-a15d-4458-ce18-6d4fcacac1bb",
        "colab": {
          "base_uri": "https://localhost:8080/"
        }
      },
      "execution_count": 3,
      "outputs": [
        {
          "output_type": "stream",
          "name": "stdout",
          "text": [
            "Requirement already satisfied: scikit-learn in /usr/local/lib/python3.10/dist-packages (1.5.2)\n",
            "Requirement already satisfied: numpy>=1.19.5 in /usr/local/lib/python3.10/dist-packages (from scikit-learn) (1.26.4)\n",
            "Requirement already satisfied: scipy>=1.6.0 in /usr/local/lib/python3.10/dist-packages (from scikit-learn) (1.13.1)\n",
            "Requirement already satisfied: joblib>=1.2.0 in /usr/local/lib/python3.10/dist-packages (from scikit-learn) (1.4.2)\n",
            "Requirement already satisfied: threadpoolctl>=3.1.0 in /usr/local/lib/python3.10/dist-packages (from scikit-learn) (3.5.0)\n",
            "Requirement already satisfied: nltk in /usr/local/lib/python3.10/dist-packages (3.9.1)\n",
            "Requirement already satisfied: click in /usr/local/lib/python3.10/dist-packages (from nltk) (8.1.7)\n",
            "Requirement already satisfied: joblib in /usr/local/lib/python3.10/dist-packages (from nltk) (1.4.2)\n",
            "Requirement already satisfied: regex>=2021.8.3 in /usr/local/lib/python3.10/dist-packages (from nltk) (2024.9.11)\n",
            "Requirement already satisfied: tqdm in /usr/local/lib/python3.10/dist-packages (from nltk) (4.66.6)\n"
          ]
        }
      ]
    },
    {
      "cell_type": "code",
      "execution_count": 4,
      "metadata": {
        "id": "GcsvMDvEfXd1",
        "colab": {
          "base_uri": "https://localhost:8080/"
        },
        "outputId": "1795a959-2976-4747-bef6-51c270810292"
      },
      "outputs": [
        {
          "output_type": "stream",
          "name": "stdout",
          "text": [
            "Bir metin giriniz: dün tenis maçı çok güzeldi\n",
            "Metnin konusu: Diğer konular\n"
          ]
        }
      ],
      "source": [
        "from sklearn.feature_extraction.text import TfidfVectorizer\n",
        "from sklearn.metrics.pairwise import cosine_similarity\n",
        "import nltk\n",
        "import string\n",
        "\n",
        "# Anahtar kelimeleri konu başlıklarına göre hazırlama\n",
        "konu_basliklari = {\n",
        "    \"Siyaset\": [\"hükümet\", \"seçim\", \"yasa\", \"parlamento\", \"başbakan\", \"meclis\"],\n",
        "    \"Teknoloji\": [\"yazılım\", \"internet\", \"bilgisayar\", \"yapay zeka\", \"mobil\", \"robot\"],\n",
        "    \"Spor\": [\"futbol\", \"basketbol\", \"koç\", \"antrenman\", \"maç\", \"sporcu\"],\n",
        "    \"Sağlık\": [\"doktor\", \"tedavi\", \"hastane\", \"sağlık\", \"ilaç\", \"hasta\"],\n",
        "    \"Eğlence\": [\"film\", \"müzik\", \"tiyatro\", \"oyun\", \"sinema\", \"festival\"]\n",
        "}\n",
        "\n",
        "# Konu başlıklarına uygun örnek metinler (temsil olarak kullanılacak)\n",
        "konu_metni = [\" \".join(kelimeler) for kelimeler in konu_basliklari.values()]\n",
        "\n",
        "# Vectorizer hazırlığı\n",
        "tfidf_vectorizer = TfidfVectorizer()\n",
        "\n",
        "# Konu başlıklarını vektörleştirme\n",
        "tfidf_konu = tfidf_vectorizer.fit_transform(konu_metni)\n",
        "\n",
        "# Temizleme fonksiyonu\n",
        "def temizle(metin):\n",
        "    # Küçük harfe dönüştür ve noktalama işaretlerini kaldır\n",
        "    return \"\".join([char.lower() for char in metin if char not in string.punctuation])\n",
        "\n",
        "# Metin işleme ve konu başlığı tespiti\n",
        "def konu_basligi_tespit(metin):\n",
        "    # Metni temizle ve vektörleştir\n",
        "    temiz_metin = temizle(metin)\n",
        "    tfidf_metin = tfidf_vectorizer.transform([temiz_metin])\n",
        "\n",
        "    # Konu başlıkları ile girilen metin arasındaki benzerliği hesapla\n",
        "    benzerlik_skoru = cosine_similarity(tfidf_metin, tfidf_konu)\n",
        "\n",
        "    # En yüksek benzerlik skorunu al\n",
        "    max_skor = benzerlik_skoru.max()\n",
        "    if max_skor > 0:\n",
        "        en_yakin_konu = list(konu_basliklari.keys())[benzerlik_skoru.argmax()]\n",
        "        return en_yakin_konu\n",
        "    else:\n",
        "        return \"Diğer konular\"\n",
        "\n",
        "# Örnek kullanım\n",
        "metin = input(\"Bir metin giriniz: \")\n",
        "print(\"Metnin konusu:\", konu_basligi_tespit(metin))\n"
      ]
    }
  ]
}