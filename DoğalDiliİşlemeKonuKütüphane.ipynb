{
  "nbformat": 4,
  "nbformat_minor": 0,
  "metadata": {
    "colab": {
      "provenance": [],
      "mount_file_id": "1Nvk6IIP07wRVhVSfgvUg_2vmZ5nDr48k",
      "authorship_tag": "ABX9TyM+WrXF2SbAfSKsU0c1dg71",
      "include_colab_link": true
    },
    "kernelspec": {
      "name": "python3",
      "display_name": "Python 3"
    },
    "language_info": {
      "name": "python"
    }
  },
  "cells": [
    {
      "cell_type": "markdown",
      "metadata": {
        "id": "view-in-github",
        "colab_type": "text"
      },
      "source": [
        "<a href=\"https://colab.research.google.com/github/dilara-uzer/hu-bby-261-2024/blob/main/Do%C4%9FalDili%C4%B0%C5%9FlemeKonuK%C3%BCt%C3%BCphane.ipynb\" target=\"_parent\"><img src=\"https://colab.research.google.com/assets/colab-badge.svg\" alt=\"Open In Colab\"/></a>"
      ]
    },
    {
      "cell_type": "code",
      "execution_count": 4,
      "metadata": {
        "id": "GcsvMDvEfXd1",
        "colab": {
          "base_uri": "https://localhost:8080/"
        },
        "outputId": "3a72998b-6222-4a07-94c6-ecfd1792a79f"
      },
      "outputs": [
        {
          "output_type": "stream",
          "name": "stdout",
          "text": [
            "Bir metin giriniz: Doktorlar, yeni bir tedavi yöntemi ile hastaların iyileşme sürecini hızlandırmayı hedefliyor. Hastanelerde yapılan düzenlemelerle birlikte sağlık hizmetlerinin kalitesi de giderek artıyor.\n",
            "Metnin konusu: Sağlık\n"
          ]
        }
      ],
      "source": [
        "from sklearn.feature_extraction.text import TfidfVectorizer\n",
        "from sklearn.metrics.pairwise import cosine_similarity\n",
        "import nltk\n",
        "import string\n",
        "\n",
        "# Anahtar kelimeleri konu başlıklarına göre hazırlama\n",
        "konu_basliklari = {\n",
        "    \"Siyaset\": [\"hükümet\", \"seçim\", \"yasa\", \"parlamento\", \"başbakan\", \"meclis\"],\n",
        "    \"Teknoloji\": [\"yazılım\", \"internet\", \"bilgisayar\", \"yapay zeka\", \"mobil\", \"robot\"],\n",
        "    \"Spor\": [\"futbol\", \"basketbol\", \"koç\", \"antrenman\", \"maç\", \"sporcu\"],\n",
        "    \"Sağlık\": [\"doktor\", \"tedavi\", \"hastane\", \"sağlık\", \"ilaç\", \"hasta\"],\n",
        "    \"Eğlence\": [\"film\", \"müzik\", \"tiyatro\", \"oyun\", \"sinema\", \"festival\"]\n",
        "}\n",
        "\n",
        "# Konu başlıklarına uygun örnek metinler (temsil olarak kullanılacak)\n",
        "konu_metni = [\" \".join(kelimeler) for kelimeler in konu_basliklari.values()]\n",
        "\n",
        "# Vectorizer hazırlığı\n",
        "tfidf_vectorizer = TfidfVectorizer()\n",
        "\n",
        "# Konu başlıklarını vektörleştirme\n",
        "tfidf_konu = tfidf_vectorizer.fit_transform(konu_metni)\n",
        "\n",
        "# Temizleme fonksiyonu\n",
        "def temizle(metin):\n",
        "    # Küçük harfe dönüştür ve noktalama işaretlerini kaldır\n",
        "    return \"\".join([char.lower() for char in metin if char not in string.punctuation])\n",
        "\n",
        "# Metin işleme ve konu başlığı tespiti\n",
        "def konu_basligi_tespit(metin):\n",
        "    # Metni temizle ve vektörleştir\n",
        "    temiz_metin = temizle(metin)\n",
        "    tfidf_metin = tfidf_vectorizer.transform([temiz_metin])\n",
        "\n",
        "    # Konu başlıkları ile girilen metin arasındaki benzerliği hesapla\n",
        "    benzerlik_skoru = cosine_similarity(tfidf_metin, tfidf_konu)\n",
        "\n",
        "    # En yüksek benzerlik skorunu al\n",
        "    max_skor = benzerlik_skoru.max()\n",
        "    if max_skor > 0:\n",
        "        en_yakin_konu = list(konu_basliklari.keys())[benzerlik_skoru.argmax()]\n",
        "        return en_yakin_konu\n",
        "    else:\n",
        "        return \"Diğer konular\"\n",
        "\n",
        "# Örnek kullanım\n",
        "metin = input(\"Bir metin giriniz: \")\n",
        "print(\"Metnin konusu:\", konu_basligi_tespit(metin))\n"
      ]
    }
  ]
}